{
 "cells": [
  {
   "cell_type": "markdown",
   "id": "258d0e66",
   "metadata": {},
   "source": [
    "# Ejercicios básicos con NumPy"
   ]
  },
  {
   "cell_type": "markdown",
   "id": "69ec8a3d",
   "metadata": {},
   "source": [
    "\n",
    "        Este notebook contiene ejercicios básicos para practicar el uso de NumPy.\n",
    "        Cada sección incluye ejemplos y tareas para que puedas experimentar con las\n",
    "        funcionalidades más comunes de esta biblioteca.\n",
    "        "
   ]
  },
  {
   "cell_type": "markdown",
   "id": "876d8a1e",
   "metadata": {},
   "source": [
    "## 1. Importación de NumPy"
   ]
  },
  {
   "cell_type": "code",
   "execution_count": 1,
   "id": "5fef83ad",
   "metadata": {},
   "outputs": [
    {
     "name": "stdout",
     "output_type": "stream",
     "text": [
      "Versión de NumPy: 1.24.3\n"
     ]
    }
   ],
   "source": [
    "\n",
    "import numpy as np\n",
    "print(f\"Versión de NumPy: {np.__version__}\")\n",
    "        "
   ]
  },
  {
   "cell_type": "markdown",
   "id": "85c24f73",
   "metadata": {},
   "source": [
    "## 2. Creación de arreglos"
   ]
  },
  {
   "cell_type": "markdown",
   "id": "525df125",
   "metadata": {},
   "source": [
    "\n",
    "NumPy proporciona varias formas de crear arreglos. A continuación, se incluyen\n",
    "algunos métodos comunes y ejercicios relacionados.\n",
    "        "
   ]
  },
  {
   "cell_type": "code",
   "execution_count": 2,
   "id": "dcb52257",
   "metadata": {},
   "outputs": [
    {
     "name": "stdout",
     "output_type": "stream",
     "text": [
      "Arreglo: [1 2 3 4 5]\n"
     ]
    }
   ],
   "source": [
    "\n",
    "# Crear un arreglo unidimensional\n",
    "arreglo = np.array([1, 2, 3, 4, 5])\n",
    "print(\"Arreglo:\", arreglo)\n",
    "        "
   ]
  },
  {
   "cell_type": "code",
   "execution_count": 3,
   "id": "87a6b624",
   "metadata": {},
   "outputs": [
    {
     "name": "stdout",
     "output_type": "stream",
     "text": [
      "Rango: [0 1 2 3 4 5 6 7 8 9]\n"
     ]
    }
   ],
   "source": [
    "\n",
    "# Crear un rango de números del 0 al 9\n",
    "rango = np.arange(10)\n",
    "print(\"Rango:\", rango)\n",
    "        "
   ]
  },
  {
   "cell_type": "markdown",
   "id": "ecb269d3",
   "metadata": {},
   "source": [
    "\n",
    "**Ejercicio:** Crea un arreglo con los números del 10 al 20 utilizando `np.arange`.\n",
    "        "
   ]
  },
  {
   "cell_type": "code",
   "execution_count": 16,
   "id": "76a4ab3b",
   "metadata": {},
   "outputs": [
    {
     "name": "stdout",
     "output_type": "stream",
     "text": [
      "Rango: [10 11 12 13 14 15 16 17 18 19 20]\n"
     ]
    }
   ],
   "source": [
    "rango = np.arange(10,21)\n",
    "print(\"Rango:\", rango)"
   ]
  },
  {
   "cell_type": "markdown",
   "id": "6a7446b8",
   "metadata": {},
   "source": [
    "## 3. Indexación y segmentación"
   ]
  },
  {
   "cell_type": "markdown",
   "id": "a1c52ddd",
   "metadata": {},
   "source": [
    "\n",
    "La indexación y segmentación te permiten acceder y modificar partes de un arreglo.\n",
    "        "
   ]
  },
  {
   "cell_type": "code",
   "execution_count": 4,
   "id": "e1aa9aef",
   "metadata": {},
   "outputs": [
    {
     "name": "stdout",
     "output_type": "stream",
     "text": [
      "Elemento en la posición 2: 30\n",
      "Últimos dos elementos: [40 50]\n"
     ]
    }
   ],
   "source": [
    "\n",
    "# Crear un arreglo para practicar\n",
    "arreglo = np.array([10, 20, 30, 40, 50])\n",
    "print(\"Elemento en la posición 2:\", arreglo[2])  # Indexación\n",
    "print(\"Últimos dos elementos:\", arreglo[-2:])    # Segmentación\n",
    "        "
   ]
  },
  {
   "cell_type": "markdown",
   "id": "d9e6b17c",
   "metadata": {},
   "source": [
    "\n",
    "**Ejercicio:** Crea un arreglo de 10 elementos y accede a los elementos en posiciones impares.\n",
    "        "
   ]
  },
  {
   "cell_type": "code",
   "execution_count": 20,
   "id": "2f3ef034",
   "metadata": {},
   "outputs": [
    {
     "name": "stdout",
     "output_type": "stream",
     "text": [
      "Arreglo inicial [0 1 2 3 4 5 6 7 8 9]\n",
      "Elementos en posiciones impares [1 3 5 7 9]\n"
     ]
    }
   ],
   "source": [
    "arreglo = np.arange(10)\n",
    "print('Arreglo inicial', arreglo)\n",
    "print('Elementos en posiciones impares', arreglo[1::2])"
   ]
  },
  {
   "cell_type": "markdown",
   "id": "9a4011cf",
   "metadata": {},
   "source": [
    "## 4. Cambio de forma"
   ]
  },
  {
   "cell_type": "markdown",
   "id": "43b9fe5f",
   "metadata": {},
   "source": [
    "\n",
    "Puedes cambiar la forma de un arreglo utilizando el método `reshape`.\n",
    "        "
   ]
  },
  {
   "cell_type": "code",
   "execution_count": 14,
   "id": "045d4500",
   "metadata": {},
   "outputs": [
    {
     "name": "stdout",
     "output_type": "stream",
     "text": [
      "Arreglo original: [ 0  1  2  3  4  5  6  7  8  9 10 11]\n",
      "Matriz 3x4: \n",
      " [[ 0  1  2  3]\n",
      " [ 4  5  6  7]\n",
      " [ 8  9 10 11]]\n"
     ]
    }
   ],
   "source": [
    "\n",
    "# Crear un arreglo unidimensional\n",
    "arreglo = np.arange(12)\n",
    "print(\"Arreglo original:\", arreglo)\n",
    "\n",
    "# Cambiar su forma a una matriz 3x4\n",
    "matriz = arreglo.reshape(3, 4)\n",
    "print(\"Matriz 3x4: \\n\", matriz)\n",
    "        "
   ]
  },
  {
   "cell_type": "markdown",
   "id": "bc629e7b",
   "metadata": {},
   "source": [
    "\n",
    "**Ejercicio:** Crea un arreglo con 16 elementos y cámbialo a una matriz de 4x4.\n",
    "        "
   ]
  },
  {
   "cell_type": "code",
   "execution_count": 23,
   "id": "d18fd109",
   "metadata": {},
   "outputs": [
    {
     "data": {
      "text/plain": [
       "array([[ 0,  1,  2,  3],\n",
       "       [ 4,  5,  6,  7],\n",
       "       [ 8,  9, 10, 11],\n",
       "       [12, 13, 14, 15]])"
      ]
     },
     "execution_count": 23,
     "metadata": {},
     "output_type": "execute_result"
    }
   ],
   "source": [
    "matriz = np.arange(16)\n",
    "matriz.reshape(4,4)"
   ]
  },
  {
   "cell_type": "markdown",
   "id": "ad406251",
   "metadata": {},
   "source": [
    "## 5. Operaciones básicas con NumPy"
   ]
  },
  {
   "cell_type": "markdown",
   "id": "65f4ba43",
   "metadata": {},
   "source": [
    "\n",
    "NumPy soporta una variedad de operaciones matemáticas y funciones estadísticas.\n",
    "        "
   ]
  },
  {
   "cell_type": "code",
   "execution_count": 7,
   "id": "e1cd20c7",
   "metadata": {},
   "outputs": [
    {
     "name": "stdout",
     "output_type": "stream",
     "text": [
      "Suma: 15\n",
      "Promedio: 3.0\n"
     ]
    }
   ],
   "source": [
    "\n",
    "# Crear un arreglo\n",
    "arreglo = np.array([1, 2, 3, 4, 5])\n",
    "\n",
    "# Calcular suma y promedio\n",
    "suma = np.sum(arreglo)\n",
    "promedio = np.mean(arreglo)\n",
    "print(\"Suma:\", suma)\n",
    "print(\"Promedio:\", promedio)\n",
    "        "
   ]
  },
  {
   "cell_type": "markdown",
   "id": "ab8e59b1",
   "metadata": {},
   "source": [
    "\n",
    "**Ejercicio:** Crea un arreglo con los números del 1 al 10 y calcula su mediana y desviación estándar.\n",
    "        "
   ]
  },
  {
   "cell_type": "code",
   "execution_count": 27,
   "id": "044da3a6",
   "metadata": {},
   "outputs": [
    {
     "name": "stdout",
     "output_type": "stream",
     "text": [
      "5.5\n",
      "2.8722813232690143\n"
     ]
    }
   ],
   "source": [
    "arreglo = np.arange(1,11)\n",
    "print(np.median(arreglo)) #Mediana\n",
    "print(np.std(arreglo)) #Deviación estándar"
   ]
  },
  {
   "cell_type": "markdown",
   "id": "daac9751",
   "metadata": {},
   "source": [
    "## 6. Tipos de datos en NumPy"
   ]
  },
  {
   "cell_type": "markdown",
   "id": "5490b646",
   "metadata": {},
   "source": [
    "\n",
    "En NumPy, puedes especificar el tipo de datos de un arreglo utilizando el parámetro `dtype`.\n",
    "        "
   ]
  },
  {
   "cell_type": "code",
   "execution_count": 8,
   "id": "eddfa0b1",
   "metadata": {},
   "outputs": [
    {
     "name": "stdout",
     "output_type": "stream",
     "text": [
      "Arreglo de enteros: [1 2 3]\n",
      "Tipo de datos: int32\n",
      "Arreglo de flotantes: [1.1 2.2 3.3]\n",
      "Tipo de datos: float64\n"
     ]
    }
   ],
   "source": [
    "\n",
    "# Crear un arreglo de enteros\n",
    "arreglo_int = np.array([1, 2, 3], dtype='int32')\n",
    "print(\"Arreglo de enteros:\", arreglo_int)\n",
    "print(\"Tipo de datos:\", arreglo_int.dtype)\n",
    "\n",
    "# Crear un arreglo de flotantes\n",
    "arreglo_float = np.array([1.1, 2.2, 3.3], dtype='float64')\n",
    "print(\"Arreglo de flotantes:\", arreglo_float)\n",
    "print(\"Tipo de datos:\", arreglo_float.dtype)\n",
    "        "
   ]
  },
  {
   "cell_type": "markdown",
   "id": "16d441b7",
   "metadata": {},
   "source": [
    "\n",
    "**Ejercicio:** Crea un arreglo de booleanos con los valores `[True, False, True]` y verifica su tipo de datos.\n",
    "        "
   ]
  },
  {
   "cell_type": "code",
   "execution_count": 29,
   "id": "aa2ae1c9",
   "metadata": {},
   "outputs": [
    {
     "data": {
      "text/plain": [
       "dtype('bool')"
      ]
     },
     "execution_count": 29,
     "metadata": {},
     "output_type": "execute_result"
    }
   ],
   "source": [
    "arreglo_bool = np.array([True, False, True, False])\n",
    "arreglo_bool.dtype"
   ]
  },
  {
   "cell_type": "markdown",
   "id": "2b3d25a3",
   "metadata": {},
   "source": [
    "## 7. Operaciones avanzadas en NumPy"
   ]
  },
  {
   "cell_type": "markdown",
   "id": "f3580415",
   "metadata": {},
   "source": [
    "\n",
    "NumPy permite realizar operaciones avanzadas como operaciones element-wise,\n",
    "producto de matrices y funciones universales.\n",
    "        "
   ]
  },
  {
   "cell_type": "code",
   "execution_count": 11,
   "id": "dda74235",
   "metadata": {},
   "outputs": [
    {
     "name": "stdout",
     "output_type": "stream",
     "text": [
      "Suma: [5 7 9]\n",
      "Producto: [ 4 10 18]\n",
      "Producto de matrices: \n",
      " [[19 22]\n",
      " [43 50]]\n"
     ]
    }
   ],
   "source": [
    "\n",
    "# Operaciones element-wise\n",
    "a = np.array([1, 2, 3])\n",
    "b = np.array([4, 5, 6])\n",
    "suma = a + b\n",
    "producto = a * b\n",
    "print(\"Suma:\", suma)\n",
    "print(\"Producto:\", producto)\n",
    "\n",
    "# Producto de matrices\n",
    "matriz1 = np.array([[1, 2], [3, 4]])\n",
    "matriz2 = np.array([[5, 6], [7, 8]])\n",
    "producto_matrices = np.dot(matriz1, matriz2)\n",
    "print(\"Producto de matrices: \\n\", producto_matrices)\n",
    "        "
   ]
  },
  {
   "cell_type": "markdown",
   "id": "92e4f303",
   "metadata": {},
   "source": [
    "\n",
    "**Ejercicio:** Crea dos matrices 3x3 y realiza la suma, resta y el producto matricial.\n",
    "        "
   ]
  },
  {
   "cell_type": "code",
   "execution_count": 36,
   "id": "43606c6e",
   "metadata": {},
   "outputs": [
    {
     "name": "stdout",
     "output_type": "stream",
     "text": [
      "Suma: \n",
      " [[11 13 15]\n",
      " [17 19 21]\n",
      " [23 25 27]]\n",
      "Resta: \n",
      " [[-9 -9 -9]\n",
      " [-9 -9 -9]\n",
      " [-9 -9 -9]]\n",
      "Producto: \n",
      " [[ 10  22  36]\n",
      " [ 52  70  90]\n",
      " [112 136 162]]\n"
     ]
    }
   ],
   "source": [
    "matriz_1 = np.array([[1, 2, 3], [4, 5, 6], [7, 8, 9]])\n",
    "matriz_2 = np.array([[10, 11, 12], [13, 14, 15], [16, 17, 18]])\n",
    "\n",
    "print('Suma: \\n', matriz_1 + matriz_2)\n",
    "print('Resta: \\n', matriz_1 - matriz_2)\n",
    "print('Producto: \\n', matriz_1 * matriz_2)"
   ]
  },
  {
   "cell_type": "markdown",
   "id": "8bf0c0eb",
   "metadata": {},
   "source": [
    "## 8. Broadcasting en NumPy"
   ]
  },
  {
   "cell_type": "markdown",
   "id": "ea960a9d",
   "metadata": {},
   "source": [
    "\n",
    "El broadcasting permite realizar operaciones entre arreglos de diferentes formas,\n",
    "siempre que sean compatibles.\n",
    "        "
   ]
  },
  {
   "cell_type": "code",
   "execution_count": 12,
   "id": "898b8b95",
   "metadata": {},
   "outputs": [
    {
     "name": "stdout",
     "output_type": "stream",
     "text": [
      "Resultado del broadcasting: [10 20 30]\n"
     ]
    }
   ],
   "source": [
    "\n",
    "# Ejemplo de broadcasting\n",
    "arreglo = np.array([1, 2, 3])\n",
    "escalar = 10\n",
    "resultado = arreglo * escalar\n",
    "print(\"Resultado del broadcasting:\", resultado)\n",
    "        "
   ]
  },
  {
   "cell_type": "markdown",
   "id": "e88748a1",
   "metadata": {},
   "source": [
    "\n",
    "**Ejercicio:** Crea un arreglo unidimensional y multiplícalo por un escalar. Luego, suma un arreglo de forma compatible.\n",
    "        "
   ]
  },
  {
   "cell_type": "code",
   "execution_count": 42,
   "id": "07d85865",
   "metadata": {},
   "outputs": [
    {
     "name": "stdout",
     "output_type": "stream",
     "text": [
      "Arreglo multiplicado por 3:  [ 0  3  6  9 12 15 18 21 24 27]\n",
      "[20 23 26 29 32 35 38 41 44 47]\n"
     ]
    }
   ],
   "source": [
    "arreglo_uni = np.arange(10)\n",
    "esc = 3\n",
    "arr_multi = arreglo_uni * esc\n",
    "print('Arreglo multiplicado por 3: ', arr_multi)\n",
    "\n",
    "arreglo_uni_2 = np.arange(20,21)\n",
    "print(arr_multi + arreglo_uni_2)"
   ]
  },
  {
   "cell_type": "markdown",
   "id": "1e87e34b",
   "metadata": {},
   "source": [
    "## 9. Manejo de valores faltantes en NumPy"
   ]
  },
  {
   "cell_type": "markdown",
   "id": "6ce558c7",
   "metadata": {},
   "source": [
    "\n",
    "NumPy utiliza `np.nan` para representar valores faltantes y proporciona funciones\n",
    "especializadas para manejarlos.\n",
    "        "
   ]
  },
  {
   "cell_type": "code",
   "execution_count": 13,
   "id": "00448640",
   "metadata": {},
   "outputs": [
    {
     "name": "stdout",
     "output_type": "stream",
     "text": [
      "Arreglo con NaN: [ 1.  2. nan  4.]\n",
      "Suma ignorando NaN: 7.0\n"
     ]
    }
   ],
   "source": [
    "\n",
    "# Crear un arreglo con valores faltantes\n",
    "arreglo = np.array([1, 2, np.nan, 4])\n",
    "print(\"Arreglo con NaN:\", arreglo)\n",
    "\n",
    "# Calcular la suma ignorando valores faltantes\n",
    "suma = np.nansum(arreglo)\n",
    "print(\"Suma ignorando NaN:\", suma)\n",
    "        "
   ]
  },
  {
   "cell_type": "markdown",
   "id": "358ee054",
   "metadata": {},
   "source": [
    "\n",
    "**Ejercicio:** Crea un arreglo con algunos valores `np.nan` y calcula el promedio ignorándolos.\n",
    "        "
   ]
  },
  {
   "cell_type": "code",
   "execution_count": 45,
   "id": "ce89019b",
   "metadata": {},
   "outputs": [
    {
     "name": "stdout",
     "output_type": "stream",
     "text": [
      "Raw array:  [nan nan nan  4.  9. 10.]\n",
      "Mean:  7.666666666666667\n"
     ]
    }
   ],
   "source": [
    "arreglo = np.array([np.nan, np.nan, np.nan, 4, 9, 10])\n",
    "print('Raw array: ', arreglo)\n",
    "print('Mean: ', np.nanmean(arreglo))"
   ]
  }
 ],
 "metadata": {
  "kernelspec": {
   "display_name": "Python 3 (ipykernel)",
   "language": "python",
   "name": "python3"
  },
  "language_info": {
   "codemirror_mode": {
    "name": "ipython",
    "version": 3
   },
   "file_extension": ".py",
   "mimetype": "text/x-python",
   "name": "python",
   "nbconvert_exporter": "python",
   "pygments_lexer": "ipython3",
   "version": "3.11.5"
  }
 },
 "nbformat": 4,
 "nbformat_minor": 5
}
