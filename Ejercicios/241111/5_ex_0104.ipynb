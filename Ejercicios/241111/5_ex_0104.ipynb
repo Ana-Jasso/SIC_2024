{
 "cells": [
  {
   "cell_type": "markdown",
   "metadata": {
    "id": "nqjsKzYLsp1L"
   },
   "source": [
    "# Coding Exercise #0104"
   ]
  },
  {
   "cell_type": "markdown",
   "metadata": {
    "id": "Dd_05jTfsp1O"
   },
   "source": [
    "### 1. Pandas Series:"
   ]
  },
  {
   "cell_type": "code",
   "execution_count": 1,
   "metadata": {
    "id": "L76el9bAsp1P"
   },
   "outputs": [],
   "source": [
    "import pandas as pd\n",
    "import numpy as np"
   ]
  },
  {
   "cell_type": "markdown",
   "metadata": {
    "id": "bj5ox_JSsp1Q"
   },
   "source": [
    "#### 1.1. Creating Series objects:"
   ]
  },
  {
   "cell_type": "code",
   "execution_count": 2,
   "metadata": {
    "id": "iOP_rjVMsp1Q"
   },
   "outputs": [],
   "source": [
    "my_index = ['a','b','c']\n",
    "my_values = [222,333,444]\n",
    "my_dict = {'a':222, 'b':333, 'c':444}\n",
    "my_arr = np.array(my_values)"
   ]
  },
  {
   "cell_type": "code",
   "execution_count": 3,
   "metadata": {
    "id": "sQeoCHfmsp1Q",
    "outputId": "b85cb705-132d-47eb-ab93-3fd7f1554725"
   },
   "outputs": [
    {
     "data": {
      "text/plain": [
       "0    222\n",
       "1    333\n",
       "2    444\n",
       "dtype: int64"
      ]
     },
     "execution_count": 3,
     "metadata": {},
     "output_type": "execute_result"
    }
   ],
   "source": [
    "# Series with values.\n",
    "pd.Series(my_values)"
   ]
  },
  {
   "cell_type": "code",
   "execution_count": 4,
   "metadata": {
    "id": "U0ZvcyKSsp1R",
    "outputId": "445464ae-e3b7-406b-b290-a5024209d324"
   },
   "outputs": [
    {
     "data": {
      "text/plain": [
       "a    222\n",
       "b    333\n",
       "c    444\n",
       "dtype: int64"
      ]
     },
     "execution_count": 4,
     "metadata": {},
     "output_type": "execute_result"
    }
   ],
   "source": [
    "# Series with values and index labels.\n",
    "pd.Series(data=my_values, index=my_index)"
   ]
  },
  {
   "cell_type": "code",
   "execution_count": 5,
   "metadata": {
    "id": "PI9rwvFMsp1S",
    "outputId": "886074b6-4218-40b2-afdf-477f7ccfe6a9"
   },
   "outputs": [
    {
     "data": {
      "text/plain": [
       "0    222\n",
       "1    333\n",
       "2    444\n",
       "dtype: int32"
      ]
     },
     "execution_count": 5,
     "metadata": {},
     "output_type": "execute_result"
    }
   ],
   "source": [
    "# Series from a NumPy array.\n",
    "pd.Series(my_arr)"
   ]
  },
  {
   "cell_type": "code",
   "execution_count": 6,
   "metadata": {
    "id": "lTJcplJysp1S",
    "outputId": "ee51cbac-6557-4204-fa9d-a9e4a7b0f4a3"
   },
   "outputs": [
    {
     "data": {
      "text/plain": [
       "a    222\n",
       "b    333\n",
       "c    444\n",
       "dtype: int32"
      ]
     },
     "execution_count": 6,
     "metadata": {},
     "output_type": "execute_result"
    }
   ],
   "source": [
    "# Series from a NumPy array with index labels.\n",
    "pd.Series(my_arr, index=my_index)"
   ]
  },
  {
   "cell_type": "code",
   "execution_count": 7,
   "metadata": {
    "id": "hsHFi2uYsp1S",
    "outputId": "9319def0-09e1-429c-e5f4-6489f50375c8"
   },
   "outputs": [
    {
     "data": {
      "text/plain": [
       "a    222\n",
       "b    333\n",
       "c    444\n",
       "dtype: int64"
      ]
     },
     "execution_count": 7,
     "metadata": {},
     "output_type": "execute_result"
    }
   ],
   "source": [
    "# Series from a dictionary.\n",
    "pd.Series(my_dict)"
   ]
  },
  {
   "cell_type": "markdown",
   "metadata": {
    "id": "X_QPFZFlsp1T"
   },
   "source": [
    "#### 1.2. Series attributes and indexing:"
   ]
  },
  {
   "cell_type": "code",
   "execution_count": 8,
   "metadata": {
    "id": "118_GYOCsp1T",
    "outputId": "5a3c82c7-24be-413f-c455-f52f93e6d919"
   },
   "outputs": [
    {
     "data": {
      "text/plain": [
       "a    111\n",
       "b    222\n",
       "c    333\n",
       "d    444\n",
       "Name: MySeries, dtype: int64"
      ]
     },
     "execution_count": 8,
     "metadata": {},
     "output_type": "execute_result"
    }
   ],
   "source": [
    "s = pd.Series(data=[111,222,333,444], index = ['a','b','c','d'], name='MySeries')\n",
    "s"
   ]
  },
  {
   "cell_type": "markdown",
   "metadata": {
    "id": "6YDyoNRosp1T"
   },
   "source": [
    "Series attributes:"
   ]
  },
  {
   "cell_type": "code",
   "execution_count": 9,
   "metadata": {
    "id": "lTq51qfMsp1T",
    "outputId": "6e225884-34ff-4140-eecd-78ba65b09a05"
   },
   "outputs": [
    {
     "data": {
      "text/plain": [
       "Index(['a', 'b', 'c', 'd'], dtype='object')"
      ]
     },
     "execution_count": 9,
     "metadata": {},
     "output_type": "execute_result"
    }
   ],
   "source": [
    "s.index                                   # Index labels."
   ]
  },
  {
   "cell_type": "code",
   "execution_count": 10,
   "metadata": {
    "id": "VIanYv9Gsp1T",
    "outputId": "7016c298-db8b-4323-8d71-d6bfb4585188"
   },
   "outputs": [
    {
     "data": {
      "text/plain": [
       "'MySeries'"
      ]
     },
     "execution_count": 10,
     "metadata": {},
     "output_type": "execute_result"
    }
   ],
   "source": [
    "s.name                                    # Name attribute."
   ]
  },
  {
   "cell_type": "code",
   "execution_count": 11,
   "metadata": {
    "id": "nqkmuRhdsp1T",
    "outputId": "06355e05-29ee-45a4-e5cd-9e4eea0b15f0"
   },
   "outputs": [
    {
     "data": {
      "text/plain": [
       "dtype('int64')"
      ]
     },
     "execution_count": 11,
     "metadata": {},
     "output_type": "execute_result"
    }
   ],
   "source": [
    "s.dtype                                   # Data type."
   ]
  },
  {
   "cell_type": "code",
   "execution_count": 12,
   "metadata": {
    "id": "VeGYxt9asp1T",
    "outputId": "30f64a28-f376-4702-b051-9c73ab1e08e7"
   },
   "outputs": [
    {
     "data": {
      "text/plain": [
       "array([111, 222, 333, 444], dtype=int64)"
      ]
     },
     "execution_count": 12,
     "metadata": {},
     "output_type": "execute_result"
    }
   ],
   "source": [
    "s.values                                  # The values as NumPy array."
   ]
  },
  {
   "cell_type": "markdown",
   "metadata": {
    "id": "tcrb_LsJsp1U"
   },
   "source": [
    "Series indexing and slicing:"
   ]
  },
  {
   "cell_type": "code",
   "execution_count": 13,
   "metadata": {
    "id": "fUdXasNqsp1U",
    "outputId": "3bc1897e-fad5-4b9e-857d-47f911ae738b"
   },
   "outputs": [
    {
     "data": {
      "text/plain": [
       "222"
      ]
     },
     "execution_count": 13,
     "metadata": {},
     "output_type": "execute_result"
    }
   ],
   "source": [
    "s[1]"
   ]
  },
  {
   "cell_type": "code",
   "execution_count": 14,
   "metadata": {
    "id": "YDsAem8Bsp1U",
    "outputId": "87063166-dc6e-410c-c1dc-56723606b5ba"
   },
   "outputs": [
    {
     "data": {
      "text/plain": [
       "111"
      ]
     },
     "execution_count": 14,
     "metadata": {},
     "output_type": "execute_result"
    }
   ],
   "source": [
    "s['a']"
   ]
  },
  {
   "cell_type": "code",
   "execution_count": 15,
   "metadata": {
    "id": "7O8eJmoIsp1U",
    "outputId": "34250898-cf87-4e00-ff6f-25614abde381"
   },
   "outputs": [
    {
     "data": {
      "text/plain": [
       "c    333\n",
       "d    444\n",
       "Name: MySeries, dtype: int64"
      ]
     },
     "execution_count": 15,
     "metadata": {},
     "output_type": "execute_result"
    }
   ],
   "source": [
    "s[2:4]"
   ]
  },
  {
   "cell_type": "code",
   "execution_count": 16,
   "metadata": {
    "id": "6XJnT2Cdsp1U",
    "outputId": "d46b53a3-aa32-4cf5-b2bd-e72c6fd36411"
   },
   "outputs": [
    {
     "data": {
      "text/plain": [
       "a    111\n",
       "d    444\n",
       "Name: MySeries, dtype: int64"
      ]
     },
     "execution_count": 16,
     "metadata": {},
     "output_type": "execute_result"
    }
   ],
   "source": [
    "s[['a','d']]"
   ]
  },
  {
   "cell_type": "markdown",
   "metadata": {
    "id": "ocoDbpaQsp1U"
   },
   "source": [
    "#### 1.3. Series operations:"
   ]
  },
  {
   "cell_type": "code",
   "execution_count": 17,
   "metadata": {
    "id": "wLhWHeTysp1U"
   },
   "outputs": [],
   "source": [
    "s1 = pd.Series(data=[1,2,3,4], index = ['d','b','c','a'])\n",
    "s2 = pd.Series(data=[1,2,3,4], index = ['a','b','d','e'])"
   ]
  },
  {
   "cell_type": "markdown",
   "metadata": {
    "id": "C8BO3K35sp1U"
   },
   "source": [
    "Please notice that in the Series to Series operations, the elements are matched by the index labels. <br>\n",
    "When there is no mathing index label, we get **NaN**."
   ]
  },
  {
   "cell_type": "code",
   "execution_count": 18,
   "metadata": {
    "id": "HUZXrnhVsp1U",
    "outputId": "e8d8aa6d-0e3f-4e96-c935-def685632ebe"
   },
   "outputs": [
    {
     "data": {
      "text/plain": [
       "a    5.0\n",
       "b    4.0\n",
       "c    NaN\n",
       "d    4.0\n",
       "e    NaN\n",
       "dtype: float64"
      ]
     },
     "execution_count": 18,
     "metadata": {},
     "output_type": "execute_result"
    }
   ],
   "source": [
    "s1 + s2"
   ]
  },
  {
   "cell_type": "code",
   "execution_count": 19,
   "metadata": {
    "id": "wQeDOKdDsp1V",
    "outputId": "d74f7aa9-11ae-410f-f766-9c00a842dff3"
   },
   "outputs": [
    {
     "data": {
      "text/plain": [
       "a    3.0\n",
       "b    0.0\n",
       "c    NaN\n",
       "d   -2.0\n",
       "e    NaN\n",
       "dtype: float64"
      ]
     },
     "execution_count": 19,
     "metadata": {},
     "output_type": "execute_result"
    }
   ],
   "source": [
    "s1 - s2"
   ]
  },
  {
   "cell_type": "code",
   "execution_count": 20,
   "metadata": {
    "id": "hh1klID8sp1V",
    "outputId": "6b1d7888-af4c-4729-fb25-fb416b0f7508"
   },
   "outputs": [
    {
     "data": {
      "text/plain": [
       "a    4.0\n",
       "b    4.0\n",
       "c    NaN\n",
       "d    3.0\n",
       "e    NaN\n",
       "dtype: float64"
      ]
     },
     "execution_count": 20,
     "metadata": {},
     "output_type": "execute_result"
    }
   ],
   "source": [
    "s1 * s2"
   ]
  },
  {
   "cell_type": "code",
   "execution_count": 21,
   "metadata": {
    "id": "IKHBe1x1sp1V",
    "outputId": "d16f70ee-f6cb-47bf-ea07-9ecd56f576e3"
   },
   "outputs": [
    {
     "data": {
      "text/plain": [
       "a    4.000000\n",
       "b    1.000000\n",
       "c         NaN\n",
       "d    0.333333\n",
       "e         NaN\n",
       "dtype: float64"
      ]
     },
     "execution_count": 21,
     "metadata": {},
     "output_type": "execute_result"
    }
   ],
   "source": [
    "s1/s2"
   ]
  },
  {
   "cell_type": "code",
   "execution_count": 22,
   "metadata": {
    "id": "C5C1rtiVsp1V",
    "outputId": "2fd091ed-dbdf-4a8f-cb45-e096400b7065"
   },
   "outputs": [
    {
     "data": {
      "text/plain": [
       "d    2\n",
       "b    4\n",
       "c    6\n",
       "a    8\n",
       "dtype: int64"
      ]
     },
     "execution_count": 22,
     "metadata": {},
     "output_type": "execute_result"
    }
   ],
   "source": [
    "2*s1"
   ]
  },
  {
   "cell_type": "markdown",
   "metadata": {
    "id": "k83fIlCxsp1V"
   },
   "source": [
    "#### 1.4. Series methods:"
   ]
  },
  {
   "cell_type": "code",
   "execution_count": 23,
   "metadata": {
    "id": "M6EBq9fSsp1V",
    "outputId": "fd88d61c-6766-43e2-bafc-f472b8648ce6"
   },
   "outputs": [
    {
     "data": {
      "text/plain": [
       "10"
      ]
     },
     "execution_count": 23,
     "metadata": {},
     "output_type": "execute_result"
    }
   ],
   "source": [
    "s1.sum()"
   ]
  },
  {
   "cell_type": "code",
   "execution_count": 24,
   "metadata": {
    "id": "t8nVvITTsp1V",
    "outputId": "fd358a74-721d-47c7-92f0-c76c4d2cbca0"
   },
   "outputs": [
    {
     "data": {
      "text/plain": [
       "2.5"
      ]
     },
     "execution_count": 24,
     "metadata": {},
     "output_type": "execute_result"
    }
   ],
   "source": [
    "s1.mean()"
   ]
  },
  {
   "cell_type": "code",
   "execution_count": 25,
   "metadata": {
    "id": "LOJ2yoUqsp1V",
    "outputId": "186283e1-ab44-4e4b-af47-c48830511a82"
   },
   "outputs": [
    {
     "data": {
      "text/plain": [
       "2.5"
      ]
     },
     "execution_count": 25,
     "metadata": {},
     "output_type": "execute_result"
    }
   ],
   "source": [
    "s1.median()"
   ]
  },
  {
   "cell_type": "code",
   "execution_count": 26,
   "metadata": {
    "id": "SW_EZ2--sp1W",
    "outputId": "f21967c0-310b-41fc-a3c9-9609288b41bd"
   },
   "outputs": [
    {
     "data": {
      "text/plain": [
       "4"
      ]
     },
     "execution_count": 26,
     "metadata": {},
     "output_type": "execute_result"
    }
   ],
   "source": [
    "s1.max()"
   ]
  },
  {
   "cell_type": "code",
   "execution_count": 27,
   "metadata": {
    "id": "iSvFSUD2sp1W",
    "outputId": "6325f65d-d4d1-4f79-a166-28f3c5e28106"
   },
   "outputs": [
    {
     "data": {
      "text/plain": [
       "1.2909944487358056"
      ]
     },
     "execution_count": 27,
     "metadata": {},
     "output_type": "execute_result"
    }
   ],
   "source": [
    "s1.std()"
   ]
  },
  {
   "cell_type": "code",
   "execution_count": 28,
   "metadata": {
    "id": "G2tx58Jssp1W",
    "outputId": "dab01f6b-80fb-4d7a-9b95-fe484cb512da"
   },
   "outputs": [
    {
     "data": {
      "text/plain": [
       "d    1\n",
       "b    2\n",
       "c    3\n",
       "a    4\n",
       "dtype: int64"
      ]
     },
     "execution_count": 28,
     "metadata": {},
     "output_type": "execute_result"
    }
   ],
   "source": [
    "s1.sort_values()"
   ]
  },
  {
   "cell_type": "code",
   "execution_count": 29,
   "metadata": {
    "id": "4hHfcutfsp1W",
    "outputId": "9a6ddce9-73f0-4b46-b2ce-3710f1743f5d"
   },
   "outputs": [
    {
     "data": {
      "text/plain": [
       "a    4\n",
       "b    2\n",
       "c    3\n",
       "d    1\n",
       "dtype: int64"
      ]
     },
     "execution_count": 29,
     "metadata": {},
     "output_type": "execute_result"
    }
   ],
   "source": [
    "s1.sort_index()"
   ]
  },
  {
   "cell_type": "markdown",
   "metadata": {
    "id": "agC22Pg7sp1W"
   },
   "source": [
    "apply() method:"
   ]
  },
  {
   "cell_type": "code",
   "execution_count": 30,
   "metadata": {
    "id": "iS9J74ISsp1b",
    "outputId": "1fbd7f4a-9e14-43ae-dd4f-c4b9d0cc93c6"
   },
   "outputs": [
    {
     "data": {
      "text/plain": [
       "0     165.3\n",
       "1     170.1\n",
       "2     175.0\n",
       "3     182.1\n",
       "4     168.0\n",
       "5     162.0\n",
       "6     155.2\n",
       "7     176.9\n",
       "8     178.5\n",
       "9     176.1\n",
       "10    167.1\n",
       "11    180.0\n",
       "12    162.2\n",
       "13    176.1\n",
       "14    158.2\n",
       "15    168.6\n",
       "16    169.2\n",
       "Name: height, dtype: float64"
      ]
     },
     "execution_count": 30,
     "metadata": {},
     "output_type": "execute_result"
    }
   ],
   "source": [
    "ser_height = pd.Series([165.3, 170.1, 175.0, 182.1, 168.0, 162.0, 155.2, 176.9, 178.5, 176.1,\n",
    "                        167.1, 180.0, 162.2, 176.1, 158.2, 168.6, 169.2],name='height')\n",
    "ser_height"
   ]
  },
  {
   "cell_type": "code",
   "execution_count": 31,
   "metadata": {
    "id": "kPOhjXV2sp1b",
    "outputId": "43f78fba-f385-403f-f0bd-eccda5490660"
   },
   "outputs": [
    {
     "data": {
      "text/plain": [
       "0     1.653\n",
       "1     1.701\n",
       "2     1.750\n",
       "3     1.821\n",
       "4     1.680\n",
       "5     1.620\n",
       "6     1.552\n",
       "7     1.769\n",
       "8     1.785\n",
       "9     1.761\n",
       "10    1.671\n",
       "11    1.800\n",
       "12    1.622\n",
       "13    1.761\n",
       "14    1.582\n",
       "15    1.686\n",
       "16    1.692\n",
       "Name: height, dtype: float64"
      ]
     },
     "execution_count": 31,
     "metadata": {},
     "output_type": "execute_result"
    }
   ],
   "source": [
    "ser_height.apply(lambda x: x/100)"
   ]
  },
  {
   "cell_type": "code",
   "execution_count": 32,
   "metadata": {
    "id": "XEfmj7P1sp1b"
   },
   "outputs": [],
   "source": [
    "# Add"
   ]
  },
  {
   "cell_type": "markdown",
   "metadata": {
    "id": "SoA_a3V_sp1b"
   },
   "source": [
    "Create a series of objects from Python dictionary objects."
   ]
  },
  {
   "cell_type": "code",
   "execution_count": 33,
   "metadata": {
    "id": "DaYFKQkcsp1c",
    "outputId": "bae4abb6-b388-483b-ac3b-4b0c3fc9c4f7"
   },
   "outputs": [
    {
     "data": {
      "text/plain": [
       "Ohio      35000\n",
       "Texas     71000\n",
       "Oregon    16000\n",
       "Utah       5000\n",
       "dtype: int64"
      ]
     },
     "execution_count": 33,
     "metadata": {},
     "output_type": "execute_result"
    }
   ],
   "source": [
    "sdata = {'Ohio': 35000, 'Texas': 71000, 'Oregon': 16000, 'Utah': 5000}\n",
    "obj1 = pd.Series(sdata)\n",
    "obj1"
   ]
  },
  {
   "cell_type": "markdown",
   "metadata": {
    "id": "VMeMsfZwsp1c"
   },
   "source": [
    "When creating a series of objects with only dictionary objects, the key values of dictionaries enter in order. You can also index them yourself."
   ]
  },
  {
   "cell_type": "code",
   "execution_count": 34,
   "metadata": {
    "id": "ZYLwSW4Nsp1c",
    "outputId": "77fec414-516d-45ab-ad95-b88df4a02e1f"
   },
   "outputs": [
    {
     "data": {
      "text/plain": [
       "California        NaN\n",
       "Ohio          35000.0\n",
       "Oregon        16000.0\n",
       "Texas         71000.0\n",
       "dtype: float64"
      ]
     },
     "execution_count": 34,
     "metadata": {},
     "output_type": "execute_result"
    }
   ],
   "source": [
    "states = ['California', 'Ohio', 'Oregon', 'Texas']\n",
    "obj2 = pd.Series(sdata, index=states)\n",
    "obj2"
   ]
  },
  {
   "cell_type": "markdown",
   "metadata": {
    "id": "AGd84oSEsp1c"
   },
   "source": [
    "Only three of the values in sdata in this example can be checked, because the values for 'California' cannot be found. This value is denoted as NaN(not a number), and is treated as a missing value or NA value in pandas. 'Utah' is not included in the states, so it is excluded from the execution result."
   ]
  },
  {
   "cell_type": "markdown",
   "metadata": {
    "id": "sYkyS0x7sp1c"
   },
   "source": [
    "inull and notnull functions are used to find missing data."
   ]
  },
  {
   "cell_type": "code",
   "execution_count": 35,
   "metadata": {
    "id": "T-qsHo2qsp1c",
    "outputId": "9fcb2ac6-4cde-4b86-ee7e-0cb586acf0ad"
   },
   "outputs": [
    {
     "data": {
      "text/plain": [
       "California     True\n",
       "Ohio          False\n",
       "Oregon        False\n",
       "Texas         False\n",
       "dtype: bool"
      ]
     },
     "execution_count": 35,
     "metadata": {},
     "output_type": "execute_result"
    }
   ],
   "source": [
    "pd.isnull(obj2)"
   ]
  },
  {
   "cell_type": "code",
   "execution_count": 36,
   "metadata": {
    "id": "qDLC85iFsp1c",
    "outputId": "f5e3dec2-a710-4a1d-dd57-be5c235f9569"
   },
   "outputs": [
    {
     "data": {
      "text/plain": [
       "California    False\n",
       "Ohio           True\n",
       "Oregon         True\n",
       "Texas          True\n",
       "dtype: bool"
      ]
     },
     "execution_count": 36,
     "metadata": {},
     "output_type": "execute_result"
    }
   ],
   "source": [
    "pd.notnull(obj2)"
   ]
  },
  {
   "cell_type": "markdown",
   "metadata": {
    "id": "QkuRMsMgsp1c"
   },
   "source": [
    "This method also exists as an instance method of the series."
   ]
  },
  {
   "cell_type": "code",
   "execution_count": 37,
   "metadata": {
    "id": "bVkrAThwsp1c",
    "outputId": "4f8522bd-e8b8-43ba-8d68-8281b283c412"
   },
   "outputs": [
    {
     "data": {
      "text/plain": [
       "California     True\n",
       "Ohio          False\n",
       "Oregon        False\n",
       "Texas         False\n",
       "dtype: bool"
      ]
     },
     "execution_count": 37,
     "metadata": {},
     "output_type": "execute_result"
    }
   ],
   "source": [
    "obj2.isnull()"
   ]
  },
  {
   "cell_type": "markdown",
   "metadata": {
    "id": "zOgcy0YSsp1c"
   },
   "source": [
    "A useful function of the series is automatic aligning with indeces and labels in arithmetic operations."
   ]
  },
  {
   "cell_type": "code",
   "execution_count": 38,
   "metadata": {
    "id": "I4OnOCmesp1c",
    "outputId": "8f0f7e00-eae8-40ad-b253-c401cd5d4220"
   },
   "outputs": [
    {
     "data": {
      "text/plain": [
       "Ohio      35000\n",
       "Texas     71000\n",
       "Oregon    16000\n",
       "Utah       5000\n",
       "dtype: int64"
      ]
     },
     "execution_count": 38,
     "metadata": {},
     "output_type": "execute_result"
    }
   ],
   "source": [
    "obj1"
   ]
  },
  {
   "cell_type": "code",
   "execution_count": 39,
   "metadata": {
    "id": "497hPbaysp1c",
    "outputId": "8abaaff4-98a8-4c9e-cd3a-d32a6002a08f"
   },
   "outputs": [
    {
     "data": {
      "text/plain": [
       "California        NaN\n",
       "Ohio          35000.0\n",
       "Oregon        16000.0\n",
       "Texas         71000.0\n",
       "dtype: float64"
      ]
     },
     "execution_count": 39,
     "metadata": {},
     "output_type": "execute_result"
    }
   ],
   "source": [
    "obj2"
   ]
  },
  {
   "cell_type": "code",
   "execution_count": 40,
   "metadata": {
    "id": "el3uyqx8sp1c",
    "outputId": "a2940436-c752-442b-9243-a1e5a62a3b01"
   },
   "outputs": [
    {
     "data": {
      "text/plain": [
       "California         NaN\n",
       "Ohio           70000.0\n",
       "Oregon         32000.0\n",
       "Texas         142000.0\n",
       "Utah               NaN\n",
       "dtype: float64"
      ]
     },
     "execution_count": 40,
     "metadata": {},
     "output_type": "execute_result"
    }
   ],
   "source": [
    "obj1 + obj2"
   ]
  },
  {
   "cell_type": "markdown",
   "metadata": {
    "id": "Ssl1PT8nsp1d"
   },
   "source": [
    "Both the series object and the series index have a name attribute, which is closely related to the core function of pandas."
   ]
  },
  {
   "cell_type": "code",
   "execution_count": 41,
   "metadata": {
    "id": "0urDcMx5sp1d",
    "outputId": "d92a1243-a340-458c-db19-4a36165b3854"
   },
   "outputs": [
    {
     "data": {
      "text/plain": [
       "state\n",
       "California        NaN\n",
       "Ohio          35000.0\n",
       "Oregon        16000.0\n",
       "Texas         71000.0\n",
       "Name: population, dtype: float64"
      ]
     },
     "execution_count": 41,
     "metadata": {},
     "output_type": "execute_result"
    }
   ],
   "source": [
    "obj2.name = 'population'\n",
    "obj2.index.name = 'state'\n",
    "obj2"
   ]
  },
  {
   "cell_type": "markdown",
   "metadata": {
    "id": "Iv_NWQ3wsp1d"
   },
   "source": [
    "The index of the series can be changed through substitution."
   ]
  },
  {
   "cell_type": "code",
   "execution_count": 42,
   "metadata": {
    "id": "6_6IFm-Lsp1d",
    "outputId": "ce350935-22d4-460b-fe8d-a47f3f4ae488"
   },
   "outputs": [
    {
     "data": {
      "text/plain": [
       "Ohio      35000\n",
       "Texas     71000\n",
       "Oregon    16000\n",
       "Utah       5000\n",
       "dtype: int64"
      ]
     },
     "execution_count": 42,
     "metadata": {},
     "output_type": "execute_result"
    }
   ],
   "source": [
    "obj1"
   ]
  },
  {
   "cell_type": "code",
   "execution_count": 43,
   "metadata": {
    "id": "efI4fNufsp1d",
    "outputId": "b6e170e5-c32f-49dd-fa6c-f8ca41ddd5fc"
   },
   "outputs": [
    {
     "data": {
      "text/plain": [
       "Bob      35000\n",
       "Steve    71000\n",
       "Jeff     16000\n",
       "Ryan      5000\n",
       "dtype: int64"
      ]
     },
     "execution_count": 43,
     "metadata": {},
     "output_type": "execute_result"
    }
   ],
   "source": [
    "obj1.index = ['Bob', 'Steve', 'Jeff', 'Ryan']\n",
    "obj1"
   ]
  }
 ],
 "metadata": {
  "colab": {
   "provenance": []
  },
  "kernelspec": {
   "display_name": "Python 3 (ipykernel)",
   "language": "python",
   "name": "python3"
  },
  "language_info": {
   "codemirror_mode": {
    "name": "ipython",
    "version": 3
   },
   "file_extension": ".py",
   "mimetype": "text/x-python",
   "name": "python",
   "nbconvert_exporter": "python",
   "pygments_lexer": "ipython3",
   "version": "3.11.5"
  }
 },
 "nbformat": 4,
 "nbformat_minor": 1
}
