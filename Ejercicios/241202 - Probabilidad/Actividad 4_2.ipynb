{
 "cells": [
  {
   "cell_type": "code",
   "execution_count": 6,
   "id": "ff4fdef9",
   "metadata": {},
   "outputs": [
    {
     "name": "stdout",
     "output_type": "stream",
     "text": [
      "La probabilidad de obtener una calificación igual o superior a 85 es: 0.0668\n"
     ]
    }
   ],
   "source": [
    "# μ (Mu) - Media\n",
    "mu = 70\n",
    "# σ (Sigma) - Desviación Estándar\n",
    "sigma = 10\n",
    "\n",
    "calificacion = 85\n",
    "prob = 1 - norm.cdf(calificacion, loc=media, scale=desviacion_estandar)\n",
    "\n",
    "print(f\"La probabilidad de obtener una calificación igual o superior a 85 es: {prob:.4f}\")"
   ]
  },
  {
   "cell_type": "code",
   "execution_count": 7,
   "id": "4fbed996",
   "metadata": {},
   "outputs": [
    {
     "name": "stdout",
     "output_type": "stream",
     "text": [
      "La probabilidad de que un pasajero espere más de 10 minutos es: 0.3333\n"
     ]
    }
   ],
   "source": [
    "# Parámetros de la distribución uniforme\n",
    "a = 0  # Tiempo mínimo\n",
    "b = 15 # Tiempo máximo\n",
    "espera = 10\n",
    "\n",
    "prob = 1 - uniform.cdf(espera, loc=a, scale=b)\n",
    "\n",
    "print(f\"La probabilidad de que un pasajero espere más de 10 minutos es: {prob:.4f}\")\n"
   ]
  }
 ],
 "metadata": {
  "kernelspec": {
   "display_name": "Python 3 (ipykernel)",
   "language": "python",
   "name": "python3"
  },
  "language_info": {
   "codemirror_mode": {
    "name": "ipython",
    "version": 3
   },
   "file_extension": ".py",
   "mimetype": "text/x-python",
   "name": "python",
   "nbconvert_exporter": "python",
   "pygments_lexer": "ipython3",
   "version": "3.11.5"
  }
 },
 "nbformat": 4,
 "nbformat_minor": 5
}
