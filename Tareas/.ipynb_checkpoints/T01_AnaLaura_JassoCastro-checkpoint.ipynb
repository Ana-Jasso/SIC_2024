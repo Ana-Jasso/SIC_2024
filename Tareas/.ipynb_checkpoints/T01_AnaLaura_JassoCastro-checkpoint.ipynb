{
 "cells": [
  {
   "cell_type": "code",
   "execution_count": 21,
   "id": "c600b281",
   "metadata": {},
   "outputs": [],
   "source": [
    "import numpy as np\n",
    "import matplotlib.pyplot as plt\n",
    "import random"
   ]
  },
  {
   "cell_type": "markdown",
   "id": "0ceb2618",
   "metadata": {},
   "source": [
    "### 1. Crea un array de NumPy con los números del 1 al 20 y calcula el promedio, la varianza y la desviación estándar."
   ]
  },
  {
   "cell_type": "code",
   "execution_count": 7,
   "id": "532a6e67",
   "metadata": {},
   "outputs": [
    {
     "name": "stdout",
     "output_type": "stream",
     "text": [
      "Array: [ 1  2  3  4  5  6  7  8  9 10 11 12 13 14 15 16 17 18 19 20]\n",
      "Promedio del array: 10.5\n",
      "Varianza del array: 33.25\n",
      "Deviación estándar del array: 5.766281297335398\n"
     ]
    }
   ],
   "source": [
    "array = np.arange(1,21)\n",
    "print(f'Array: {array}')\n",
    "print(f'Promedio del array: {array.mean()}') # Promedio\n",
    "print(f'Varianza del array: {array.var()}') # Varianza\n",
    "print(f'Deviación estándar del array: {array.std()}') # Deviación estándar"
   ]
  },
  {
   "cell_type": "markdown",
   "id": "f0b44143",
   "metadata": {},
   "source": [
    "### 2. Genera un array aleatorio de 50 elementos entre 0 y 100. Encuentra los valores máximos, mínimos y su posición (índices)."
   ]
  },
  {
   "cell_type": "code",
   "execution_count": 8,
   "id": "caef18eb",
   "metadata": {},
   "outputs": [
    {
     "name": "stdout",
     "output_type": "stream",
     "text": [
      "Array: [  8  30  92  45  36  39  38  52  81  61  96  51   7  99  66  98  93  75\n",
      "  82  55  81  67  70  47  78  92  91  70 100  27  34  28   1  62  10   1\n",
      "   1  84  49  20  17  50   1  80  51  30  10   3   0  52]\n",
      "Valor mínimo: 0\n",
      "Valor máximo: 100\n",
      "Posición valor mínimo: [48]\n",
      "Posición valor máximo: [28]\n"
     ]
    }
   ],
   "source": [
    "array = np.random.randint(0, 101, size=50)\n",
    "print(f'Array: {array}')\n",
    "print(f'Valor mínimo: {array.min()}')\n",
    "print(f'Valor máximo: {array.max()}')\n",
    "print(f'Posición valor mínimo: {np.where(array == array.min())[0]}')\n",
    "print(f'Posición valor máximo: {np.where(array == array.max())[0]}')"
   ]
  },
  {
   "cell_type": "markdown",
   "id": "3e44c3fc",
   "metadata": {},
   "source": [
    "### 3. Crea dos arrays de 10 elementos cada uno y realiza las siguientes operaciones: suma, resta, multiplicación y división elemento por elemento."
   ]
  },
  {
   "cell_type": "code",
   "execution_count": 16,
   "id": "c5152385",
   "metadata": {},
   "outputs": [
    {
     "name": "stdout",
     "output_type": "stream",
     "text": [
      "Array 1: [0 3 6 2 1 8 9 3 5 4]\n",
      "Array 2: [3 1 2 7 8 9 1 5 4 2]\n",
      "Suma de ambos array: [ 3  4  8  9  9 17 10  8  9  6]\n",
      "Resta de ambos array: [-3  2  4 -5 -7 -1  8 -2  1  2]\n",
      "Multiplicación de ambos array: [ 0  3 12 14  8 72  9 15 20  8]\n",
      "División de ambos array: [0.         3.         3.         0.28571429 0.125      0.88888889\n",
      " 9.         0.6        1.25       2.        ]\n"
     ]
    }
   ],
   "source": [
    "arr_1 = np.random.randint(10, size=10)\n",
    "arr_2 = np.random.randint(10, size=10)\n",
    "print(f'Array 1: {arr_1}')\n",
    "print(f'Array 2: {arr_2}')\n",
    "print(f'Suma de ambos array: {arr_1+arr_2}')\n",
    "print(f'Resta de ambos array: {arr_1-arr_2}')\n",
    "print(f'Multiplicación de ambos array: {arr_1*arr_2}')\n",
    "print(f'División de ambos array: {arr_1/arr_2}')"
   ]
  },
  {
   "cell_type": "markdown",
   "id": "21280916",
   "metadata": {},
   "source": [
    "### 4. Usa una función universal de NumPy como `np.sin` o `np.log` para operar sobre un array de 10 elementos. Interpreta los resultados."
   ]
  },
  {
   "cell_type": "code",
   "execution_count": 23,
   "id": "d6e13471",
   "metadata": {},
   "outputs": [
    {
     "name": "stdout",
     "output_type": "stream",
     "text": [
      "Array: [0 1 2 3 4 5 6 7 8 9]\n",
      "Array: [ 1.          0.54030231 -0.41614684 -0.9899925  -0.65364362  0.28366219\n",
      "  0.96017029  0.75390225 -0.14550003 -0.91113026]\n"
     ]
    }
   ],
   "source": [
    "arr = np.arange(10)\n",
    "print(f'Array: {arr}')\n",
    "print(f'Array: {np.cos(arr)}') # Aplicación de la función coseno"
   ]
  },
  {
   "cell_type": "code",
   "execution_count": 24,
   "id": "323a1def",
   "metadata": {},
   "outputs": [
    {
     "data": {
      "text/plain": [
       "[<matplotlib.lines.Line2D at 0x27eafc35a50>]"
      ]
     },
     "execution_count": 24,
     "metadata": {},
     "output_type": "execute_result"
    },
    {
     "data": {
      "image/png": "[encoded data removed]",
      "text/plain": [
       "<Figure size 640x480 with 1 Axes>"
      ]
     },
     "metadata": {},
     "output_type": "display_data"
    }
   ],
   "source": [
    "plt.plot(arr, np.cos(arr))"
   ]
  },
  {
   "cell_type": "markdown",
   "id": "ca407ad9",
   "metadata": {},
   "source": [
    "Interpretación de los resultados: Los valores oscilan entre -1 y 1. Cuando x=0, y=1."
   ]
  },
  {
   "cell_type": "markdown",
   "id": "3a1220b2",
   "metadata": {},
   "source": [
    "### 5. Genera una matriz de 5x5 con números aleatorios entre 1 y 10. Calcula la suma y el promedio de los valores de cada fila y de cada columna."
   ]
  },
  {
   "cell_type": "code",
   "execution_count": 36,
   "id": "94d1f32c",
   "metadata": {},
   "outputs": [
    {
     "name": "stdout",
     "output_type": "stream",
     "text": [
      "Matriz: \n",
      "[[ 4  8  3  5  9]\n",
      " [ 4  8  8  1  7]\n",
      " [ 3  1  8  3  8]\n",
      " [ 3  5  4  3  1]\n",
      " [ 1  1 10  7  6]]\n",
      "\n",
      "\n",
      "Fila 1: Suma = 29, Promedio = 5.8\n",
      "Fila 2: Suma = 28, Promedio = 5.6\n",
      "Fila 3: Suma = 23, Promedio = 4.6\n",
      "Fila 4: Suma = 16, Promedio = 3.2\n",
      "Fila 5: Suma = 25, Promedio = 5.0\n",
      "\n",
      "\n",
      "Columna 1: Suma = 15, Promedio = 3.0\n",
      "Columna 2: Suma = 23, Promedio = 4.6\n",
      "Columna 3: Suma = 33, Promedio = 6.6\n",
      "Columna 4: Suma = 19, Promedio = 3.8\n",
      "Columna 5: Suma = 31, Promedio = 6.2\n"
     ]
    }
   ],
   "source": [
    "matriz = np.random.randint(1, 11, size=(5,5))\n",
    "print(f'Matriz: \\n{matriz}')\n",
    "\n",
    "sumas_filas = matriz.sum(axis=1)\n",
    "promedios_filas = matriz.mean(axis=1) \n",
    "sumas_columnas = matriz.sum(axis=0)\n",
    "promedios_columnas = matriz.mean(axis=0) \n",
    "print('\\n')\n",
    "for i in range(5):\n",
    "    print(f\"Fila {i+1}: Suma = {sumas_filas[i]}, Promedio = {promedios_filas[i]}\")\n",
    "print('\\n')\n",
    "for i in range(5):\n",
    "    print(f\"Columna {i+1}: Suma = {sumas_columnas[i]}, Promedio = {promedios_columnas[i]}\")"
   ]
  }
 ],
 "metadata": {
  "kernelspec": {
   "display_name": "Python 3 (ipykernel)",
   "language": "python",
   "name": "python3"
  },
  "language_info": {
   "codemirror_mode": {
    "name": "ipython",
    "version": 3
   },
   "file_extension": ".py",
   "mimetype": "text/x-python",
   "name": "python",
   "nbconvert_exporter": "python",
   "pygments_lexer": "ipython3",
   "version": "3.11.5"
  }
 },
 "nbformat": 4,
 "nbformat_minor": 5
}
