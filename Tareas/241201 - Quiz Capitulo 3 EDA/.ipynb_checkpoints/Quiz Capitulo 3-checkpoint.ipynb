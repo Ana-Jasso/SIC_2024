{
 "cells": [
  {
   "cell_type": "markdown",
   "id": "1b21d93e",
   "metadata": {},
   "source": [
    "### 1. Responde las siguientes preguntas usando funciones de la librería pandas."
   ]
  },
  {
   "cell_type": "code",
   "execution_count": 1,
   "id": "85392d85",
   "metadata": {},
   "outputs": [
    {
     "data": {
      "text/html": [
       "<div>\n",
       "<style scoped>\n",
       "    .dataframe tbody tr th:only-of-type {\n",
       "        vertical-align: middle;\n",
       "    }\n",
       "\n",
       "    .dataframe tbody tr th {\n",
       "        vertical-align: top;\n",
       "    }\n",
       "\n",
       "    .dataframe thead th {\n",
       "        text-align: right;\n",
       "    }\n",
       "</style>\n",
       "<table border=\"1\" class=\"dataframe\">\n",
       "  <thead>\n",
       "    <tr style=\"text-align: right;\">\n",
       "      <th></th>\n",
       "      <th>Name</th>\n",
       "      <th>Gender</th>\n",
       "      <th>Age</th>\n",
       "      <th>Grade</th>\n",
       "      <th>Absence</th>\n",
       "      <th>Bloodtype</th>\n",
       "      <th>Height</th>\n",
       "      <th>Weight</th>\n",
       "    </tr>\n",
       "  </thead>\n",
       "  <tbody>\n",
       "    <tr>\n",
       "      <th>0</th>\n",
       "      <td>Jared Diamond</td>\n",
       "      <td>M</td>\n",
       "      <td>23</td>\n",
       "      <td>3</td>\n",
       "      <td>Y</td>\n",
       "      <td>O</td>\n",
       "      <td>165.3</td>\n",
       "      <td>68.2</td>\n",
       "    </tr>\n",
       "    <tr>\n",
       "      <th>1</th>\n",
       "      <td>Sarah O'Donnel</td>\n",
       "      <td>F</td>\n",
       "      <td>22</td>\n",
       "      <td>2</td>\n",
       "      <td>N</td>\n",
       "      <td>AB</td>\n",
       "      <td>170.1</td>\n",
       "      <td>53.0</td>\n",
       "    </tr>\n",
       "    <tr>\n",
       "      <th>2</th>\n",
       "      <td>Brian Martin</td>\n",
       "      <td>M</td>\n",
       "      <td>24</td>\n",
       "      <td>4</td>\n",
       "      <td>N</td>\n",
       "      <td>B</td>\n",
       "      <td>175.0</td>\n",
       "      <td>80.1</td>\n",
       "    </tr>\n",
       "    <tr>\n",
       "      <th>3</th>\n",
       "      <td>David Hassel</td>\n",
       "      <td>M</td>\n",
       "      <td>23</td>\n",
       "      <td>3</td>\n",
       "      <td>N</td>\n",
       "      <td>AB</td>\n",
       "      <td>182.1</td>\n",
       "      <td>85.7</td>\n",
       "    </tr>\n",
       "    <tr>\n",
       "      <th>4</th>\n",
       "      <td>Clara Rodriquez</td>\n",
       "      <td>F</td>\n",
       "      <td>20</td>\n",
       "      <td>1</td>\n",
       "      <td>Y</td>\n",
       "      <td>A</td>\n",
       "      <td>168.0</td>\n",
       "      <td>49.5</td>\n",
       "    </tr>\n",
       "  </tbody>\n",
       "</table>\n",
       "</div>"
      ],
      "text/plain": [
       "              Name Gender  Age  Grade Absence Bloodtype  Height  Weight\n",
       "0    Jared Diamond      M   23      3       Y         O   165.3    68.2\n",
       "1   Sarah O'Donnel      F   22      2       N        AB   170.1    53.0\n",
       "2     Brian Martin      M   24      4       N         B   175.0    80.1\n",
       "3     David Hassel      M   23      3       N        AB   182.1    85.7\n",
       "4  Clara Rodriquez      F   20      1       Y         A   168.0    49.5"
      ]
     },
     "execution_count": 1,
     "metadata": {},
     "output_type": "execute_result"
    }
   ],
   "source": [
    "import pandas as pd\n",
    "import os\n",
    "\n",
    "# Asegúrate de encontrarte en el directorio donde se encuentra el archivo. \n",
    "# os.chdir(r'~~')     # Reemplaza el path con el tuyo.\n",
    "df = pd.read_csv('data_studentlist.csv', header='infer')\n",
    "df.head(5)"
   ]
  },
  {
   "cell_type": "markdown",
   "id": "04afc292",
   "metadata": {},
   "source": [
    "1) Altura promedio de los estudiantes varones:"
   ]
  },
  {
   "cell_type": "code",
   "execution_count": 3,
   "id": "4f827ee6",
   "metadata": {},
   "outputs": [
    {
     "data": {
      "text/plain": [
       "172.41000000000003"
      ]
     },
     "execution_count": 3,
     "metadata": {},
     "output_type": "execute_result"
    }
   ],
   "source": [
    "df[df['Gender']=='M']['Height'].mean()"
   ]
  },
  {
   "cell_type": "markdown",
   "id": "c8db4e2a",
   "metadata": {},
   "source": [
    "2) Altura promedio de las estudiantes:"
   ]
  },
  {
   "cell_type": "code",
   "execution_count": 4,
   "id": "30391d57",
   "metadata": {},
   "outputs": [
    {
     "data": {
      "text/plain": [
       "166.64285714285714"
      ]
     },
     "execution_count": 4,
     "metadata": {},
     "output_type": "execute_result"
    }
   ],
   "source": [
    "df[df['Gender']=='F']['Height'].mean()"
   ]
  },
  {
   "cell_type": "markdown",
   "id": "f3e5e301",
   "metadata": {},
   "source": [
    "3) Peso promedio de los estudiantes varones:"
   ]
  },
  {
   "cell_type": "code",
   "execution_count": 5,
   "id": "784b5233",
   "metadata": {},
   "outputs": [
    {
     "data": {
      "text/plain": [
       "68.50000000000001"
      ]
     },
     "execution_count": 5,
     "metadata": {},
     "output_type": "execute_result"
    }
   ],
   "source": [
    "df[df['Gender']=='M']['Weight'].mean()"
   ]
  },
  {
   "cell_type": "markdown",
   "id": "d9437c64",
   "metadata": {},
   "source": [
    "4) Peso promedio de las estudiantes:"
   ]
  },
  {
   "cell_type": "code",
   "execution_count": 7,
   "id": "556a783d",
   "metadata": {},
   "outputs": [
    {
     "data": {
      "text/plain": [
       "50.44285714285714"
      ]
     },
     "execution_count": 7,
     "metadata": {},
     "output_type": "execute_result"
    }
   ],
   "source": [
    "df[df['Gender']=='F']['Weight'].mean()"
   ]
  },
  {
   "cell_type": "markdown",
   "id": "53e1a6cc",
   "metadata": {},
   "source": [
    "5) La mayor estatura entre los estudiantes varones:"
   ]
  },
  {
   "cell_type": "code",
   "execution_count": 8,
   "id": "a728e156",
   "metadata": {},
   "outputs": [
    {
     "data": {
      "text/plain": [
       "182.1"
      ]
     },
     "execution_count": 8,
     "metadata": {},
     "output_type": "execute_result"
    }
   ],
   "source": [
    "df[df['Gender']=='M']['Height'].max()"
   ]
  },
  {
   "cell_type": "markdown",
   "id": "ab8c25e0",
   "metadata": {},
   "source": [
    "6) La menor estatura entre las estudiantes:"
   ]
  },
  {
   "cell_type": "code",
   "execution_count": 10,
   "id": "d851d30e",
   "metadata": {},
   "outputs": [
    {
     "data": {
      "text/plain": [
       "155.2"
      ]
     },
     "execution_count": 10,
     "metadata": {},
     "output_type": "execute_result"
    }
   ],
   "source": [
    "df[df['Gender']=='F']['Height'].min()"
   ]
  },
  {
   "cell_type": "markdown",
   "id": "3462f73c",
   "metadata": {},
   "source": [
    "7) El peso más ligero entre los estudiantes varones de estatura superior a 1.75 m:"
   ]
  },
  {
   "cell_type": "code",
   "execution_count": 15,
   "id": "26bcfbf1",
   "metadata": {},
   "outputs": [
    {
     "data": {
      "text/plain": [
       "61.3"
      ]
     },
     "execution_count": 15,
     "metadata": {},
     "output_type": "execute_result"
    }
   ],
   "source": [
    "df[(df['Gender']=='M')&(df['Height']>175)]['Weight'].min()"
   ]
  },
  {
   "cell_type": "code",
   "execution_count": 14,
   "id": "119d168c",
   "metadata": {},
   "outputs": [
    {
     "data": {
      "text/html": [
       "<div>\n",
       "<style scoped>\n",
       "    .dataframe tbody tr th:only-of-type {\n",
       "        vertical-align: middle;\n",
       "    }\n",
       "\n",
       "    .dataframe tbody tr th {\n",
       "        vertical-align: top;\n",
       "    }\n",
       "\n",
       "    .dataframe thead th {\n",
       "        text-align: right;\n",
       "    }\n",
       "</style>\n",
       "<table border=\"1\" class=\"dataframe\">\n",
       "  <thead>\n",
       "    <tr style=\"text-align: right;\">\n",
       "      <th></th>\n",
       "      <th>Name</th>\n",
       "      <th>Gender</th>\n",
       "      <th>Age</th>\n",
       "      <th>Grade</th>\n",
       "      <th>Absence</th>\n",
       "      <th>Bloodtype</th>\n",
       "      <th>Height</th>\n",
       "      <th>Weight</th>\n",
       "    </tr>\n",
       "  </thead>\n",
       "  <tbody>\n",
       "    <tr>\n",
       "      <th>3</th>\n",
       "      <td>David Hassel</td>\n",
       "      <td>M</td>\n",
       "      <td>23</td>\n",
       "      <td>3</td>\n",
       "      <td>N</td>\n",
       "      <td>AB</td>\n",
       "      <td>182.1</td>\n",
       "      <td>85.7</td>\n",
       "    </tr>\n",
       "    <tr>\n",
       "      <th>8</th>\n",
       "      <td>John Bertsch</td>\n",
       "      <td>M</td>\n",
       "      <td>23</td>\n",
       "      <td>3</td>\n",
       "      <td>N</td>\n",
       "      <td>B</td>\n",
       "      <td>178.5</td>\n",
       "      <td>64.2</td>\n",
       "    </tr>\n",
       "    <tr>\n",
       "      <th>9</th>\n",
       "      <td>Jake Timmerman</td>\n",
       "      <td>M</td>\n",
       "      <td>22</td>\n",
       "      <td>2</td>\n",
       "      <td>N</td>\n",
       "      <td>B</td>\n",
       "      <td>176.1</td>\n",
       "      <td>61.3</td>\n",
       "    </tr>\n",
       "    <tr>\n",
       "      <th>11</th>\n",
       "      <td>John Matsuda</td>\n",
       "      <td>M</td>\n",
       "      <td>22</td>\n",
       "      <td>2</td>\n",
       "      <td>N</td>\n",
       "      <td>AB</td>\n",
       "      <td>180.0</td>\n",
       "      <td>75.8</td>\n",
       "    </tr>\n",
       "  </tbody>\n",
       "</table>\n",
       "</div>"
      ],
      "text/plain": [
       "              Name Gender  Age  Grade Absence Bloodtype  Height  Weight\n",
       "3     David Hassel      M   23      3       N        AB   182.1    85.7\n",
       "8     John Bertsch      M   23      3       N         B   178.5    64.2\n",
       "9   Jake Timmerman      M   22      2       N         B   176.1    61.3\n",
       "11    John Matsuda      M   22      2       N        AB   180.0    75.8"
      ]
     },
     "execution_count": 14,
     "metadata": {},
     "output_type": "execute_result"
    }
   ],
   "source": [
    "df[(df['Gender']=='M')&(df['Height']>175)]"
   ]
  },
  {
   "cell_type": "markdown",
   "id": "d74ec4be",
   "metadata": {},
   "source": [
    "8) El mayor peso entre las estudiantes de estatura inferior a 1.60 m:"
   ]
  },
  {
   "cell_type": "code",
   "execution_count": 17,
   "id": "638a2543",
   "metadata": {},
   "outputs": [
    {
     "data": {
      "text/plain": [
       "45.3"
      ]
     },
     "execution_count": 17,
     "metadata": {},
     "output_type": "execute_result"
    }
   ],
   "source": [
    "df[(df['Gender']=='F')&(df['Height']<160)]['Weight'].max()"
   ]
  },
  {
   "cell_type": "code",
   "execution_count": 18,
   "id": "808fe90b",
   "metadata": {},
   "outputs": [
    {
     "data": {
      "text/html": [
       "<div>\n",
       "<style scoped>\n",
       "    .dataframe tbody tr th:only-of-type {\n",
       "        vertical-align: middle;\n",
       "    }\n",
       "\n",
       "    .dataframe tbody tr th {\n",
       "        vertical-align: top;\n",
       "    }\n",
       "\n",
       "    .dataframe thead th {\n",
       "        text-align: right;\n",
       "    }\n",
       "</style>\n",
       "<table border=\"1\" class=\"dataframe\">\n",
       "  <thead>\n",
       "    <tr style=\"text-align: right;\">\n",
       "      <th></th>\n",
       "      <th>Name</th>\n",
       "      <th>Gender</th>\n",
       "      <th>Age</th>\n",
       "      <th>Grade</th>\n",
       "      <th>Absence</th>\n",
       "      <th>Bloodtype</th>\n",
       "      <th>Height</th>\n",
       "      <th>Weight</th>\n",
       "    </tr>\n",
       "  </thead>\n",
       "  <tbody>\n",
       "    <tr>\n",
       "      <th>6</th>\n",
       "      <td>Susan Clark</td>\n",
       "      <td>F</td>\n",
       "      <td>22</td>\n",
       "      <td>1</td>\n",
       "      <td>N</td>\n",
       "      <td>O</td>\n",
       "      <td>155.2</td>\n",
       "      <td>45.3</td>\n",
       "    </tr>\n",
       "    <tr>\n",
       "      <th>14</th>\n",
       "      <td>Linda Carter</td>\n",
       "      <td>F</td>\n",
       "      <td>22</td>\n",
       "      <td>2</td>\n",
       "      <td>N</td>\n",
       "      <td>B</td>\n",
       "      <td>158.2</td>\n",
       "      <td>45.2</td>\n",
       "    </tr>\n",
       "  </tbody>\n",
       "</table>\n",
       "</div>"
      ],
      "text/plain": [
       "            Name Gender  Age  Grade Absence Bloodtype  Height  Weight\n",
       "6    Susan Clark      F   22      1       N         O   155.2    45.3\n",
       "14  Linda Carter      F   22      2       N         B   158.2    45.2"
      ]
     },
     "execution_count": 18,
     "metadata": {},
     "output_type": "execute_result"
    }
   ],
   "source": [
    "df[(df['Gender']=='F')&(df['Height']<160)]"
   ]
  },
  {
   "cell_type": "markdown",
   "id": "6db3a04f",
   "metadata": {},
   "source": [
    "9) La nota promedio de los alumnos (hombres y mujeres) sin ausencias ('N'):"
   ]
  },
  {
   "cell_type": "code",
   "execution_count": 20,
   "id": "149f2094",
   "metadata": {},
   "outputs": [
    {
     "data": {
      "text/plain": [
       "array(['Y', 'N'], dtype=object)"
      ]
     },
     "execution_count": 20,
     "metadata": {},
     "output_type": "execute_result"
    }
   ],
   "source": [
    "df['Absence'].unique()"
   ]
  },
  {
   "cell_type": "code",
   "execution_count": 21,
   "id": "6552d15f",
   "metadata": {},
   "outputs": [
    {
     "data": {
      "text/plain": [
       "2.076923076923077"
      ]
     },
     "execution_count": 21,
     "metadata": {},
     "output_type": "execute_result"
    }
   ],
   "source": [
    "df[df['Absence']=='N']['Grade'].mean()"
   ]
  },
  {
   "cell_type": "markdown",
   "id": "091bb714",
   "metadata": {},
   "source": [
    "10) La nota promedio de los alumnos (hombres y mujeres) con absentismo ('Y'):"
   ]
  },
  {
   "cell_type": "code",
   "execution_count": 23,
   "id": "38adeb08",
   "metadata": {},
   "outputs": [
    {
     "data": {
      "text/plain": [
       "3.0"
      ]
     },
     "execution_count": 23,
     "metadata": {},
     "output_type": "execute_result"
    }
   ],
   "source": [
    "df[df['Absence']=='Y']['Grade'].mean()"
   ]
  },
  {
   "cell_type": "markdown",
   "id": "9c1e24ee",
   "metadata": {},
   "source": [
    "11) Altura promedio de los alumnos (hombres y mujeres) con grupo sanguíneo 'A' o 'AB':\t"
   ]
  },
  {
   "cell_type": "code",
   "execution_count": 25,
   "id": "5ed80818",
   "metadata": {},
   "outputs": [
    {
     "data": {
      "text/plain": [
       "172.64285714285714"
      ]
     },
     "execution_count": 25,
     "metadata": {},
     "output_type": "execute_result"
    }
   ],
   "source": [
    "df[df['Bloodtype'].isin(['A', 'AB'])]['Height'].mean()"
   ]
  },
  {
   "cell_type": "markdown",
   "id": "7487f45d",
   "metadata": {},
   "source": [
    "12) Altura promedio de los alumnos varones con grupo sanguíneo 'A' o 'AB':"
   ]
  },
  {
   "cell_type": "code",
   "execution_count": 27,
   "id": "96989f43",
   "metadata": {},
   "outputs": [
    {
     "data": {
      "text/plain": [
       "173.375"
      ]
     },
     "execution_count": 27,
     "metadata": {},
     "output_type": "execute_result"
    }
   ],
   "source": [
    "df[(df['Gender']=='M')&(df['Bloodtype'].isin(['A', 'AB']))]['Height'].mean()"
   ]
  },
  {
   "cell_type": "markdown",
   "id": "1a5e8a21",
   "metadata": {},
   "source": [
    "13) Edad promedio de los alumnos (hombres y mujeres) con absentismo ('Y') cuya nota es mayor o igual a 3:"
   ]
  },
  {
   "cell_type": "code",
   "execution_count": 28,
   "id": "e53596c8",
   "metadata": {},
   "outputs": [
    {
     "data": {
      "text/plain": [
       "23.666666666666668"
      ]
     },
     "execution_count": 28,
     "metadata": {},
     "output_type": "execute_result"
    }
   ],
   "source": [
    "df[(df['Absence']=='Y')&(df['Grade']>=3)]['Age'].mean()"
   ]
  },
  {
   "cell_type": "markdown",
   "id": "39c34fe4",
   "metadata": {},
   "source": [
    "### 2.\tResponde las siguientes preguntas usando funciones de las librerías pandas y numpy."
   ]
  },
  {
   "cell_type": "code",
   "execution_count": 29,
   "id": "f745c262",
   "metadata": {},
   "outputs": [
    {
     "name": "stdout",
     "output_type": "stream",
     "text": [
      "(281, 6)\n"
     ]
    },
    {
     "data": {
      "text/html": [
       "<div>\n",
       "<style scoped>\n",
       "    .dataframe tbody tr th:only-of-type {\n",
       "        vertical-align: middle;\n",
       "    }\n",
       "\n",
       "    .dataframe tbody tr th {\n",
       "        vertical-align: top;\n",
       "    }\n",
       "\n",
       "    .dataframe thead th {\n",
       "        text-align: right;\n",
       "    }\n",
       "</style>\n",
       "<table border=\"1\" class=\"dataframe\">\n",
       "  <thead>\n",
       "    <tr style=\"text-align: right;\">\n",
       "      <th></th>\n",
       "      <th>Province Code</th>\n",
       "      <th>City Code</th>\n",
       "      <th>Population</th>\n",
       "      <th>Households</th>\n",
       "      <th>Person's Household</th>\n",
       "      <th>Gender Ratio</th>\n",
       "    </tr>\n",
       "  </thead>\n",
       "  <tbody>\n",
       "    <tr>\n",
       "      <th>0</th>\n",
       "      <td>109</td>\n",
       "      <td>1001</td>\n",
       "      <td>10,078,850</td>\n",
       "      <td>4,197,478</td>\n",
       "      <td>2.40</td>\n",
       "      <td>0.97</td>\n",
       "    </tr>\n",
       "    <tr>\n",
       "      <th>1</th>\n",
       "      <td>109</td>\n",
       "      <td>1188</td>\n",
       "      <td>155,695</td>\n",
       "      <td>72,882</td>\n",
       "      <td>2.14</td>\n",
       "      <td>0.98</td>\n",
       "    </tr>\n",
       "    <tr>\n",
       "      <th>2</th>\n",
       "      <td>109</td>\n",
       "      <td>1189</td>\n",
       "      <td>126,817</td>\n",
       "      <td>59,614</td>\n",
       "      <td>2.13</td>\n",
       "      <td>1.00</td>\n",
       "    </tr>\n",
       "    <tr>\n",
       "      <th>3</th>\n",
       "      <td>109</td>\n",
       "      <td>1158</td>\n",
       "      <td>235,186</td>\n",
       "      <td>108,138</td>\n",
       "      <td>2.17</td>\n",
       "      <td>0.94</td>\n",
       "    </tr>\n",
       "    <tr>\n",
       "      <th>4</th>\n",
       "      <td>109</td>\n",
       "      <td>1105</td>\n",
       "      <td>298,145</td>\n",
       "      <td>126,915</td>\n",
       "      <td>2.35</td>\n",
       "      <td>0.99</td>\n",
       "    </tr>\n",
       "    <tr>\n",
       "      <th>5</th>\n",
       "      <td>109</td>\n",
       "      <td>1032</td>\n",
       "      <td>362,197</td>\n",
       "      <td>158,769</td>\n",
       "      <td>2.28</td>\n",
       "      <td>0.97</td>\n",
       "    </tr>\n",
       "    <tr>\n",
       "      <th>6</th>\n",
       "      <td>109</td>\n",
       "      <td>1065</td>\n",
       "      <td>362,604</td>\n",
       "      <td>160,110</td>\n",
       "      <td>2.26</td>\n",
       "      <td>1.01</td>\n",
       "    </tr>\n",
       "    <tr>\n",
       "      <th>7</th>\n",
       "      <td>109</td>\n",
       "      <td>1190</td>\n",
       "      <td>417,976</td>\n",
       "      <td>177,077</td>\n",
       "      <td>2.36</td>\n",
       "      <td>1.00</td>\n",
       "    </tr>\n",
       "    <tr>\n",
       "      <th>8</th>\n",
       "      <td>109</td>\n",
       "      <td>1106</td>\n",
       "      <td>464,176</td>\n",
       "      <td>192,670</td>\n",
       "      <td>2.41</td>\n",
       "      <td>0.96</td>\n",
       "    </tr>\n",
       "    <tr>\n",
       "      <th>9</th>\n",
       "      <td>109</td>\n",
       "      <td>1006</td>\n",
       "      <td>333,523</td>\n",
       "      <td>141,325</td>\n",
       "      <td>2.36</td>\n",
       "      <td>0.97</td>\n",
       "    </tr>\n",
       "  </tbody>\n",
       "</table>\n",
       "</div>"
      ],
      "text/plain": [
       "   Province Code  City Code    Population   Households  Person's Household  \\\n",
       "0            109       1001   10,078,850    4,197,478                 2.40   \n",
       "1            109       1188      155,695       72,882                 2.14   \n",
       "2            109       1189      126,817       59,614                 2.13   \n",
       "3            109       1158      235,186      108,138                 2.17   \n",
       "4            109       1105      298,145      126,915                 2.35   \n",
       "5            109       1032      362,197      158,769                 2.28   \n",
       "6            109       1065      362,604      160,110                 2.26   \n",
       "7            109       1190      417,976      177,077                 2.36   \n",
       "8            109       1106      464,176      192,670                 2.41   \n",
       "9            109       1006      333,523      141,325                 2.36   \n",
       "\n",
       "   Gender Ratio  \n",
       "0          0.97  \n",
       "1          0.98  \n",
       "2          1.00  \n",
       "3          0.94  \n",
       "4          0.99  \n",
       "5          0.97  \n",
       "6          1.01  \n",
       "7          1.00  \n",
       "8          0.96  \n",
       "9          0.97  "
      ]
     },
     "execution_count": 29,
     "metadata": {},
     "output_type": "execute_result"
    }
   ],
   "source": [
    "import pandas as pd\n",
    "import numpy as np\n",
    "import os\n",
    "\n",
    "# Asegúrate de encontrarte en el directorio donde se encuentra el archivo. \n",
    "# os.chdir(r'~~')     # Reemplaza el path con el tuyo.\n",
    "df = pd.read_csv('data_census.csv', header='infer')\n",
    "print(df.shape)\n",
    "df.head(10)"
   ]
  },
  {
   "cell_type": "markdown",
   "id": "84f4d4b7",
   "metadata": {},
   "source": [
    "1) Población total con ProvinceCode igual a 115 o 116:"
   ]
  },
  {
   "cell_type": "code",
   "execution_count": 32,
   "id": "32a62399",
   "metadata": {},
   "outputs": [
    {
     "name": "stdout",
     "output_type": "stream",
     "text": [
      "Población total con ProvinceCode igual a 115 o 116: 5970327\n"
     ]
    }
   ],
   "source": [
    "df['Population'] = df['Population'].astype(str).str.replace(',', '').str.strip()\n",
    "df['Population'] = pd.to_numeric(df['Population'], errors='coerce')\n",
    "df['Gender Ratio'] = df['Gender Ratio'].astype(str).str.replace(',', '').str.strip()\n",
    "df['Gender Ratio'] = pd.to_numeric(df['Gender Ratio'], errors='coerce')\n",
    "df['Households'] = df['Households'].astype(str).str.replace(',', '').str.strip()\n",
    "df['Households'] = pd.to_numeric(df['Households'], errors='coerce')"
   ]
  },
  {
   "cell_type": "code",
   "execution_count": 33,
   "id": "911597f1",
   "metadata": {},
   "outputs": [
    {
     "data": {
      "text/plain": [
       "5970327"
      ]
     },
     "execution_count": 33,
     "metadata": {},
     "output_type": "execute_result"
    }
   ],
   "source": [
    "df[df['Province Code'].isin([115,116])]['Population'].sum()"
   ]
  },
  {
   "cell_type": "markdown",
   "id": "f8b414a9",
   "metadata": {},
   "source": [
    "2) Población promedio de las ciudades donde hay más hombres (GenderRatio > 1):"
   ]
  },
  {
   "cell_type": "code",
   "execution_count": 36,
   "id": "7b576ef3",
   "metadata": {},
   "outputs": [
    {
     "data": {
      "text/plain": [
       "419221.2076923077"
      ]
     },
     "execution_count": 36,
     "metadata": {},
     "output_type": "execute_result"
    }
   ],
   "source": [
    "df[df['Gender Ratio']>1]['Population'].mean()"
   ]
  },
  {
   "cell_type": "markdown",
   "id": "a7e97354",
   "metadata": {},
   "source": [
    "3) Lugares con más hombres (GenderRatio > 1) y menos de 2 personas por hogar:"
   ]
  },
  {
   "cell_type": "code",
   "execution_count": 38,
   "id": "8c8a53d9",
   "metadata": {},
   "outputs": [
    {
     "data": {
      "text/html": [
       "<div>\n",
       "<style scoped>\n",
       "    .dataframe tbody tr th:only-of-type {\n",
       "        vertical-align: middle;\n",
       "    }\n",
       "\n",
       "    .dataframe tbody tr th {\n",
       "        vertical-align: top;\n",
       "    }\n",
       "\n",
       "    .dataframe thead th {\n",
       "        text-align: right;\n",
       "    }\n",
       "</style>\n",
       "<table border=\"1\" class=\"dataframe\">\n",
       "  <thead>\n",
       "    <tr style=\"text-align: right;\">\n",
       "      <th></th>\n",
       "      <th>Province Code</th>\n",
       "      <th>City Code</th>\n",
       "      <th>Population</th>\n",
       "      <th>Households</th>\n",
       "      <th>Person's Household</th>\n",
       "      <th>Gender Ratio</th>\n",
       "    </tr>\n",
       "  </thead>\n",
       "  <tbody>\n",
       "  </tbody>\n",
       "</table>\n",
       "</div>"
      ],
      "text/plain": [
       "Empty DataFrame\n",
       "Columns: [Province Code, City Code, Population, Households, Person's Household, Gender Ratio]\n",
       "Index: []"
      ]
     },
     "execution_count": 38,
     "metadata": {},
     "output_type": "execute_result"
    }
   ],
   "source": [
    "df[(df['Gender Ratio']>1)& (df['Households'] < 2)]"
   ]
  },
  {
   "cell_type": "markdown",
   "id": "c20a0b64",
   "metadata": {},
   "source": [
    "4) Ordena el DataFrame en orden ascendente de 'Households' y muestra los 10 primeros:"
   ]
  },
  {
   "cell_type": "code",
   "execution_count": 40,
   "id": "5f16af6a",
   "metadata": {},
   "outputs": [
    {
     "data": {
      "text/html": [
       "<div>\n",
       "<style scoped>\n",
       "    .dataframe tbody tr th:only-of-type {\n",
       "        vertical-align: middle;\n",
       "    }\n",
       "\n",
       "    .dataframe tbody tr th {\n",
       "        vertical-align: top;\n",
       "    }\n",
       "\n",
       "    .dataframe thead th {\n",
       "        text-align: right;\n",
       "    }\n",
       "</style>\n",
       "<table border=\"1\" class=\"dataframe\">\n",
       "  <thead>\n",
       "    <tr style=\"text-align: right;\">\n",
       "      <th></th>\n",
       "      <th>Province Code</th>\n",
       "      <th>City Code</th>\n",
       "      <th>Population</th>\n",
       "      <th>Households</th>\n",
       "      <th>Person's Household</th>\n",
       "      <th>Gender Ratio</th>\n",
       "    </tr>\n",
       "  </thead>\n",
       "  <tbody>\n",
       "    <tr>\n",
       "      <th>253</th>\n",
       "      <td>104</td>\n",
       "      <td>1163</td>\n",
       "      <td>10304</td>\n",
       "      <td>5365</td>\n",
       "      <td>1.92</td>\n",
       "      <td>1.15</td>\n",
       "    </tr>\n",
       "    <tr>\n",
       "      <th>244</th>\n",
       "      <td>104</td>\n",
       "      <td>1147</td>\n",
       "      <td>17984</td>\n",
       "      <td>8769</td>\n",
       "      <td>2.05</td>\n",
       "      <td>0.97</td>\n",
       "    </tr>\n",
       "    <tr>\n",
       "      <th>200</th>\n",
       "      <td>114</td>\n",
       "      <td>1179</td>\n",
       "      <td>23308</td>\n",
       "      <td>10877</td>\n",
       "      <td>2.14</td>\n",
       "      <td>0.98</td>\n",
       "    </tr>\n",
       "    <tr>\n",
       "      <th>150</th>\n",
       "      <td>101</td>\n",
       "      <td>1130</td>\n",
       "      <td>24283</td>\n",
       "      <td>11162</td>\n",
       "      <td>2.18</td>\n",
       "      <td>1.17</td>\n",
       "    </tr>\n",
       "    <tr>\n",
       "      <th>62</th>\n",
       "      <td>112</td>\n",
       "      <td>1155</td>\n",
       "      <td>20825</td>\n",
       "      <td>11172</td>\n",
       "      <td>1.86</td>\n",
       "      <td>1.29</td>\n",
       "    </tr>\n",
       "    <tr>\n",
       "      <th>199</th>\n",
       "      <td>114</td>\n",
       "      <td>1073</td>\n",
       "      <td>25181</td>\n",
       "      <td>11723</td>\n",
       "      <td>2.15</td>\n",
       "      <td>0.98</td>\n",
       "    </tr>\n",
       "    <tr>\n",
       "      <th>241</th>\n",
       "      <td>104</td>\n",
       "      <td>1039</td>\n",
       "      <td>24096</td>\n",
       "      <td>12091</td>\n",
       "      <td>1.99</td>\n",
       "      <td>1.00</td>\n",
       "    </tr>\n",
       "    <tr>\n",
       "      <th>213</th>\n",
       "      <td>113</td>\n",
       "      <td>1034</td>\n",
       "      <td>27115</td>\n",
       "      <td>12465</td>\n",
       "      <td>2.18</td>\n",
       "      <td>0.95</td>\n",
       "    </tr>\n",
       "    <tr>\n",
       "      <th>198</th>\n",
       "      <td>114</td>\n",
       "      <td>1193</td>\n",
       "      <td>26325</td>\n",
       "      <td>12531</td>\n",
       "      <td>2.10</td>\n",
       "      <td>1.00</td>\n",
       "    </tr>\n",
       "    <tr>\n",
       "      <th>243</th>\n",
       "      <td>104</td>\n",
       "      <td>1208</td>\n",
       "      <td>26353</td>\n",
       "      <td>13233</td>\n",
       "      <td>1.99</td>\n",
       "      <td>0.98</td>\n",
       "    </tr>\n",
       "  </tbody>\n",
       "</table>\n",
       "</div>"
      ],
      "text/plain": [
       "     Province Code  City Code  Population  Households  Person's Household  \\\n",
       "253            104       1163       10304        5365                1.92   \n",
       "244            104       1147       17984        8769                2.05   \n",
       "200            114       1179       23308       10877                2.14   \n",
       "150            101       1130       24283       11162                2.18   \n",
       "62             112       1155       20825       11172                1.86   \n",
       "199            114       1073       25181       11723                2.15   \n",
       "241            104       1039       24096       12091                1.99   \n",
       "213            113       1034       27115       12465                2.18   \n",
       "198            114       1193       26325       12531                2.10   \n",
       "243            104       1208       26353       13233                1.99   \n",
       "\n",
       "     Gender Ratio  \n",
       "253          1.15  \n",
       "244          0.97  \n",
       "200          0.98  \n",
       "150          1.17  \n",
       "62           1.29  \n",
       "199          0.98  \n",
       "241          1.00  \n",
       "213          0.95  \n",
       "198          1.00  \n",
       "243          0.98  "
      ]
     },
     "execution_count": 40,
     "metadata": {},
     "output_type": "execute_result"
    }
   ],
   "source": [
    "df.sort_values(by='Households', ascending=True)[:10]"
   ]
  },
  {
   "cell_type": "markdown",
   "id": "5f2c5633",
   "metadata": {},
   "source": [
    "### 3. Responde las siguientes preguntas."
   ]
  },
  {
   "cell_type": "code",
   "execution_count": 41,
   "id": "577e7f4a",
   "metadata": {},
   "outputs": [
    {
     "name": "stdout",
     "output_type": "stream",
     "text": [
      "(43, 5)\n"
     ]
    },
    {
     "data": {
      "text/html": [
       "<div>\n",
       "<style scoped>\n",
       "    .dataframe tbody tr th:only-of-type {\n",
       "        vertical-align: middle;\n",
       "    }\n",
       "\n",
       "    .dataframe tbody tr th {\n",
       "        vertical-align: top;\n",
       "    }\n",
       "\n",
       "    .dataframe thead th {\n",
       "        text-align: right;\n",
       "    }\n",
       "</style>\n",
       "<table border=\"1\" class=\"dataframe\">\n",
       "  <thead>\n",
       "    <tr style=\"text-align: right;\">\n",
       "      <th></th>\n",
       "      <th>Date</th>\n",
       "      <th>Region</th>\n",
       "      <th>Item</th>\n",
       "      <th>Unit Price</th>\n",
       "      <th>Units</th>\n",
       "    </tr>\n",
       "  </thead>\n",
       "  <tbody>\n",
       "    <tr>\n",
       "      <th>0</th>\n",
       "      <td>04-Jul-14</td>\n",
       "      <td>East</td>\n",
       "      <td>Pen Set</td>\n",
       "      <td>4.99</td>\n",
       "      <td>62</td>\n",
       "    </tr>\n",
       "    <tr>\n",
       "      <th>1</th>\n",
       "      <td>12-Jul-14</td>\n",
       "      <td>East</td>\n",
       "      <td>Binder</td>\n",
       "      <td>1.99</td>\n",
       "      <td>29</td>\n",
       "    </tr>\n",
       "    <tr>\n",
       "      <th>2</th>\n",
       "      <td>21-Jul-14</td>\n",
       "      <td>Central</td>\n",
       "      <td>Pen Set</td>\n",
       "      <td>12.49</td>\n",
       "      <td>55</td>\n",
       "    </tr>\n",
       "    <tr>\n",
       "      <th>3</th>\n",
       "      <td>29-Jul-14</td>\n",
       "      <td>East</td>\n",
       "      <td>Binder</td>\n",
       "      <td>19.99</td>\n",
       "      <td>81</td>\n",
       "    </tr>\n",
       "    <tr>\n",
       "      <th>4</th>\n",
       "      <td>07-Aug-14</td>\n",
       "      <td>Central</td>\n",
       "      <td>Pen Set</td>\n",
       "      <td>23.95</td>\n",
       "      <td>42</td>\n",
       "    </tr>\n",
       "  </tbody>\n",
       "</table>\n",
       "</div>"
      ],
      "text/plain": [
       "        Date   Region     Item  Unit Price  Units\n",
       "0  04-Jul-14     East  Pen Set        4.99     62\n",
       "1  12-Jul-14     East   Binder        1.99     29\n",
       "2  21-Jul-14  Central  Pen Set       12.49     55\n",
       "3  29-Jul-14     East   Binder       19.99     81\n",
       "4  07-Aug-14  Central  Pen Set       23.95     42"
      ]
     },
     "execution_count": 41,
     "metadata": {},
     "output_type": "execute_result"
    }
   ],
   "source": [
    "import pandas as pd\n",
    "import numpy as np\n",
    "import os\n",
    "\n",
    "# Asegúrate de encontrarte en el directorio donde se encuentra el archivo. \n",
    "# os.chdir(r'~~')     # Reemplaza el path con el tuyo.\n",
    "df = pd.read_csv('data_sales.csv', header='infer')\n",
    "print(df.shape)\n",
    "df.head(5)"
   ]
  },
  {
   "cell_type": "markdown",
   "id": "53560edc",
   "metadata": {},
   "source": [
    "1) Añade una nueva variable Amount = UnitPrice x Units y muestra las 5 primeras observaciones."
   ]
  },
  {
   "cell_type": "code",
   "execution_count": 43,
   "id": "87f13d36",
   "metadata": {},
   "outputs": [
    {
     "data": {
      "text/plain": [
       "0     309.38\n",
       "1      57.71\n",
       "2     686.95\n",
       "3    1619.19\n",
       "4    1005.90\n",
       "Name: Amount, dtype: float64"
      ]
     },
     "execution_count": 43,
     "metadata": {},
     "output_type": "execute_result"
    }
   ],
   "source": [
    "df['Amount'] = df['Unit Price'] * df['Units']\n",
    "df['Amount'][:5]"
   ]
  },
  {
   "cell_type": "markdown",
   "id": "063283e5",
   "metadata": {},
   "source": [
    "2) Calcula el precio unitario promedio de cada región. Utiliza el método groupby()."
   ]
  },
  {
   "cell_type": "code",
   "execution_count": 44,
   "id": "9b78ffd1",
   "metadata": {},
   "outputs": [
    {
     "data": {
      "text/plain": [
       "Region\n",
       "Central    18.018750\n",
       "East        9.143846\n",
       "West       53.658333\n",
       "Name: Unit Price, dtype: float64"
      ]
     },
     "execution_count": 44,
     "metadata": {},
     "output_type": "execute_result"
    }
   ],
   "source": [
    "df.groupby('Region')['Unit Price'].mean()"
   ]
  },
  {
   "cell_type": "markdown",
   "id": "d6a55cbc",
   "metadata": {},
   "source": [
    "3) Calcula el precio unitario promedio de cada región. Utiliza el método pivot_table()."
   ]
  },
  {
   "cell_type": "code",
   "execution_count": 45,
   "id": "16010343",
   "metadata": {},
   "outputs": [
    {
     "data": {
      "text/html": [
       "<div>\n",
       "<style scoped>\n",
       "    .dataframe tbody tr th:only-of-type {\n",
       "        vertical-align: middle;\n",
       "    }\n",
       "\n",
       "    .dataframe tbody tr th {\n",
       "        vertical-align: top;\n",
       "    }\n",
       "\n",
       "    .dataframe thead th {\n",
       "        text-align: right;\n",
       "    }\n",
       "</style>\n",
       "<table border=\"1\" class=\"dataframe\">\n",
       "  <thead>\n",
       "    <tr style=\"text-align: right;\">\n",
       "      <th></th>\n",
       "      <th>Unit Price</th>\n",
       "    </tr>\n",
       "    <tr>\n",
       "      <th>Region</th>\n",
       "      <th></th>\n",
       "    </tr>\n",
       "  </thead>\n",
       "  <tbody>\n",
       "    <tr>\n",
       "      <th>Central</th>\n",
       "      <td>18.018750</td>\n",
       "    </tr>\n",
       "    <tr>\n",
       "      <th>East</th>\n",
       "      <td>9.143846</td>\n",
       "    </tr>\n",
       "    <tr>\n",
       "      <th>West</th>\n",
       "      <td>53.658333</td>\n",
       "    </tr>\n",
       "  </tbody>\n",
       "</table>\n",
       "</div>"
      ],
      "text/plain": [
       "         Unit Price\n",
       "Region             \n",
       "Central   18.018750\n",
       "East       9.143846\n",
       "West      53.658333"
      ]
     },
     "execution_count": 45,
     "metadata": {},
     "output_type": "execute_result"
    }
   ],
   "source": [
    "df.pivot_table(values='Unit Price', index='Region', aggfunc='mean')"
   ]
  },
  {
   "cell_type": "markdown",
   "id": "026af7c7",
   "metadata": {},
   "source": [
    "4) Calcula el precio unitario promedio para cada región en una línea de código. Utiliza el método groupby()."
   ]
  },
  {
   "cell_type": "code",
   "execution_count": 46,
   "id": "3d4bf6fd",
   "metadata": {},
   "outputs": [
    {
     "data": {
      "text/plain": [
       "Region\n",
       "Central    18.018750\n",
       "East        9.143846\n",
       "West       53.658333\n",
       "Name: Unit Price, dtype: float64"
      ]
     },
     "execution_count": 46,
     "metadata": {},
     "output_type": "execute_result"
    }
   ],
   "source": [
    "df.groupby('Region')['Unit Price'].mean()"
   ]
  },
  {
   "cell_type": "markdown",
   "id": "bcb4aaac",
   "metadata": {},
   "source": [
    "5) Calcula el precio unitario promedio y las unidades para cada región en una línea de código. Utiliza el método pivot_table()."
   ]
  },
  {
   "cell_type": "code",
   "execution_count": 50,
   "id": "10cf9a18",
   "metadata": {},
   "outputs": [
    {
     "data": {
      "text/html": [
       "<div>\n",
       "<style scoped>\n",
       "    .dataframe tbody tr th:only-of-type {\n",
       "        vertical-align: middle;\n",
       "    }\n",
       "\n",
       "    .dataframe tbody tr th {\n",
       "        vertical-align: top;\n",
       "    }\n",
       "\n",
       "    .dataframe thead th {\n",
       "        text-align: right;\n",
       "    }\n",
       "</style>\n",
       "<table border=\"1\" class=\"dataframe\">\n",
       "  <thead>\n",
       "    <tr style=\"text-align: right;\">\n",
       "      <th></th>\n",
       "      <th>Unit Price</th>\n",
       "      <th>Units</th>\n",
       "    </tr>\n",
       "    <tr>\n",
       "      <th>Region</th>\n",
       "      <th></th>\n",
       "      <th></th>\n",
       "    </tr>\n",
       "  </thead>\n",
       "  <tbody>\n",
       "    <tr>\n",
       "      <th>Central</th>\n",
       "      <td>18.018750</td>\n",
       "      <td>1199</td>\n",
       "    </tr>\n",
       "    <tr>\n",
       "      <th>East</th>\n",
       "      <td>9.143846</td>\n",
       "      <td>691</td>\n",
       "    </tr>\n",
       "    <tr>\n",
       "      <th>West</th>\n",
       "      <td>53.658333</td>\n",
       "      <td>231</td>\n",
       "    </tr>\n",
       "  </tbody>\n",
       "</table>\n",
       "</div>"
      ],
      "text/plain": [
       "         Unit Price  Units\n",
       "Region                    \n",
       "Central   18.018750   1199\n",
       "East       9.143846    691\n",
       "West      53.658333    231"
      ]
     },
     "execution_count": 50,
     "metadata": {},
     "output_type": "execute_result"
    }
   ],
   "source": [
    "df.pivot_table(values=['Unit Price', 'Units'], index='Region', aggfunc={'Unit Price': 'mean', 'Units': 'sum'})"
   ]
  },
  {
   "cell_type": "markdown",
   "id": "88a2b92a",
   "metadata": {},
   "source": [
    "6) Calcula el total de unidades para cada región y tipo de artículo en una línea de código. Utiliza el método pivot_table() y rellena los valores faltantes con 0."
   ]
  },
  {
   "cell_type": "code",
   "execution_count": 51,
   "id": "cbdfec66",
   "metadata": {},
   "outputs": [
    {
     "data": {
      "text/html": [
       "<div>\n",
       "<style scoped>\n",
       "    .dataframe tbody tr th:only-of-type {\n",
       "        vertical-align: middle;\n",
       "    }\n",
       "\n",
       "    .dataframe tbody tr th {\n",
       "        vertical-align: top;\n",
       "    }\n",
       "\n",
       "    .dataframe thead th {\n",
       "        text-align: right;\n",
       "    }\n",
       "</style>\n",
       "<table border=\"1\" class=\"dataframe\">\n",
       "  <thead>\n",
       "    <tr style=\"text-align: right;\">\n",
       "      <th>Item</th>\n",
       "      <th>Binder</th>\n",
       "      <th>Desk</th>\n",
       "      <th>Pen</th>\n",
       "      <th>Pen Set</th>\n",
       "      <th>Pencil</th>\n",
       "    </tr>\n",
       "    <tr>\n",
       "      <th>Region</th>\n",
       "      <th></th>\n",
       "      <th></th>\n",
       "      <th></th>\n",
       "      <th></th>\n",
       "      <th></th>\n",
       "    </tr>\n",
       "  </thead>\n",
       "  <tbody>\n",
       "    <tr>\n",
       "      <th>Central</th>\n",
       "      <td>424</td>\n",
       "      <td>7</td>\n",
       "      <td>27</td>\n",
       "      <td>243</td>\n",
       "      <td>498</td>\n",
       "    </tr>\n",
       "    <tr>\n",
       "      <th>East</th>\n",
       "      <td>234</td>\n",
       "      <td>0</td>\n",
       "      <td>175</td>\n",
       "      <td>152</td>\n",
       "      <td>130</td>\n",
       "    </tr>\n",
       "    <tr>\n",
       "      <th>West</th>\n",
       "      <td>64</td>\n",
       "      <td>3</td>\n",
       "      <td>76</td>\n",
       "      <td>0</td>\n",
       "      <td>88</td>\n",
       "    </tr>\n",
       "  </tbody>\n",
       "</table>\n",
       "</div>"
      ],
      "text/plain": [
       "Item     Binder  Desk  Pen  Pen Set  Pencil\n",
       "Region                                     \n",
       "Central     424     7   27      243     498\n",
       "East        234     0  175      152     130\n",
       "West         64     3   76        0      88"
      ]
     },
     "execution_count": 51,
     "metadata": {},
     "output_type": "execute_result"
    }
   ],
   "source": [
    "df.pivot_table(values='Units', index='Region', columns='Item', aggfunc='sum', fill_value=0)"
   ]
  },
  {
   "cell_type": "markdown",
   "id": "34a69968",
   "metadata": {},
   "source": [
    "7) Calcula el importa total de ventas para cada región y el tipo de artículo en una línea de código. Utiliza el método pivot_table() y rellena los valores faltantes con 0."
   ]
  },
  {
   "cell_type": "code",
   "execution_count": 52,
   "id": "2af291f3",
   "metadata": {},
   "outputs": [
    {
     "data": {
      "text/html": [
       "<div>\n",
       "<style scoped>\n",
       "    .dataframe tbody tr th:only-of-type {\n",
       "        vertical-align: middle;\n",
       "    }\n",
       "\n",
       "    .dataframe tbody tr th {\n",
       "        vertical-align: top;\n",
       "    }\n",
       "\n",
       "    .dataframe thead th {\n",
       "        text-align: right;\n",
       "    }\n",
       "</style>\n",
       "<table border=\"1\" class=\"dataframe\">\n",
       "  <thead>\n",
       "    <tr style=\"text-align: right;\">\n",
       "      <th>Item</th>\n",
       "      <th>Binder</th>\n",
       "      <th>Desk</th>\n",
       "      <th>Pen</th>\n",
       "      <th>Pen Set</th>\n",
       "      <th>Pencil</th>\n",
       "    </tr>\n",
       "    <tr>\n",
       "      <th>Region</th>\n",
       "      <th></th>\n",
       "      <th></th>\n",
       "      <th></th>\n",
       "      <th></th>\n",
       "      <th></th>\n",
       "    </tr>\n",
       "  </thead>\n",
       "  <tbody>\n",
       "    <tr>\n",
       "      <th>Central</th>\n",
       "      <td>5762.63</td>\n",
       "      <td>875</td>\n",
       "      <td>539.73</td>\n",
       "      <td>2421.39</td>\n",
       "      <td>1540.32</td>\n",
       "    </tr>\n",
       "    <tr>\n",
       "      <th>East</th>\n",
       "      <td>2535.66</td>\n",
       "      <td>0</td>\n",
       "      <td>1354.25</td>\n",
       "      <td>1748.48</td>\n",
       "      <td>363.70</td>\n",
       "    </tr>\n",
       "    <tr>\n",
       "      <th>West</th>\n",
       "      <td>1279.36</td>\n",
       "      <td>825</td>\n",
       "      <td>151.24</td>\n",
       "      <td>0.00</td>\n",
       "      <td>231.12</td>\n",
       "    </tr>\n",
       "  </tbody>\n",
       "</table>\n",
       "</div>"
      ],
      "text/plain": [
       "Item      Binder  Desk      Pen  Pen Set   Pencil\n",
       "Region                                           \n",
       "Central  5762.63   875   539.73  2421.39  1540.32\n",
       "East     2535.66     0  1354.25  1748.48   363.70\n",
       "West     1279.36   825   151.24     0.00   231.12"
      ]
     },
     "execution_count": 52,
     "metadata": {},
     "output_type": "execute_result"
    }
   ],
   "source": [
    "df.pivot_table(values='Amount', index='Region', columns='Item', aggfunc='sum', fill_value=0)"
   ]
  },
  {
   "cell_type": "markdown",
   "id": "7d358646",
   "metadata": {},
   "source": [
    "### 4.\tResponde las siguientes preguntas."
   ]
  },
  {
   "cell_type": "code",
   "execution_count": 53,
   "id": "10e787f4",
   "metadata": {},
   "outputs": [
    {
     "name": "stdout",
     "output_type": "stream",
     "text": [
      "(43182, 3)\n"
     ]
    },
    {
     "data": {
      "text/html": [
       "<div>\n",
       "<style scoped>\n",
       "    .dataframe tbody tr th:only-of-type {\n",
       "        vertical-align: middle;\n",
       "    }\n",
       "\n",
       "    .dataframe tbody tr th {\n",
       "        vertical-align: top;\n",
       "    }\n",
       "\n",
       "    .dataframe thead th {\n",
       "        text-align: right;\n",
       "    }\n",
       "</style>\n",
       "<table border=\"1\" class=\"dataframe\">\n",
       "  <thead>\n",
       "    <tr style=\"text-align: right;\">\n",
       "      <th></th>\n",
       "      <th>Year of Start</th>\n",
       "      <th>Current State</th>\n",
       "      <th>Size of Site</th>\n",
       "    </tr>\n",
       "  </thead>\n",
       "  <tbody>\n",
       "    <tr>\n",
       "      <th>0</th>\n",
       "      <td>2008.0</td>\n",
       "      <td>In</td>\n",
       "      <td>20.80</td>\n",
       "    </tr>\n",
       "    <tr>\n",
       "      <th>1</th>\n",
       "      <td>2010.0</td>\n",
       "      <td>In</td>\n",
       "      <td>212.72</td>\n",
       "    </tr>\n",
       "    <tr>\n",
       "      <th>2</th>\n",
       "      <td>2013.0</td>\n",
       "      <td>In</td>\n",
       "      <td>20.04</td>\n",
       "    </tr>\n",
       "    <tr>\n",
       "      <th>3</th>\n",
       "      <td>2012.0</td>\n",
       "      <td>In</td>\n",
       "      <td>64.17</td>\n",
       "    </tr>\n",
       "    <tr>\n",
       "      <th>4</th>\n",
       "      <td>2002.0</td>\n",
       "      <td>Out</td>\n",
       "      <td>11.40</td>\n",
       "    </tr>\n",
       "  </tbody>\n",
       "</table>\n",
       "</div>"
      ],
      "text/plain": [
       "   Year of Start Current State  Size of Site\n",
       "0         2008.0            In         20.80\n",
       "1         2010.0            In        212.72\n",
       "2         2013.0            In         20.04\n",
       "3         2012.0            In         64.17\n",
       "4         2002.0           Out         11.40"
      ]
     },
     "execution_count": 53,
     "metadata": {},
     "output_type": "execute_result"
    }
   ],
   "source": [
    "import pandas as pd\n",
    "import numpy as np\n",
    "import os\n",
    "import matplotlib.pyplot as plt\n",
    "%matplotlib inline\n",
    "\n",
    "# Asegúrate de encontrarte en el directorio donde se encuentra el archivo. \n",
    "# os.chdir(r'~~')     # Reemplaza el path con el tuyo.\n",
    "df = pd.read_csv('data_coffeeshop.csv', header='infer', na_values=[' '])\n",
    "print(df.shape)\n",
    "df.head(5)"
   ]
  },
  {
   "cell_type": "markdown",
   "id": "e2eeab0f",
   "metadata": {},
   "source": [
    "1) Genera una tabla de frecuencias para la variable 'yearOfStart' y visualízala por año.\n",
    "- Ordena por año.\n",
    "- Dibuja una gráfica de línea de 1997 a 2014. <= Pista: plt.xlim()"
   ]
  },
  {
   "cell_type": "code",
   "execution_count": 62,
   "id": "1adc0ec0",
   "metadata": {},
   "outputs": [],
   "source": [
    "freq = df['Year of Start'].value_counts().sort_index()"
   ]
  },
  {
   "cell_type": "code",
   "execution_count": 63,
   "id": "eff5df20",
   "metadata": {},
   "outputs": [
    {
     "data": {
      "image/png": "[encoded data removed]",
      "text/plain": [
       "<Figure size 1000x600 with 1 Axes>"
      ]
     },
     "metadata": {},
     "output_type": "display_data"
    }
   ],
   "source": [
    "plt.figure(figsize=(10, 6))\n",
    "plt.xlim(1997, 2014)\n",
    "plt.grid(True)\n",
    "plt.show()"
   ]
  },
  {
   "cell_type": "markdown",
   "id": "37ff8b8a",
   "metadata": {},
   "source": [
    "2) Divide los datos por el estado actual del negocio ('In' o 'Out'). Después, visualiza la tendencia annual de las frecuencias de la variable 'yearOfStart'.\n",
    "- Ordena por año.\n",
    "- Dibuja dos gráficas de líneas superpuestas de 1997 a 2014.\n",
    "- Usa el objeto 'figure'."
   ]
  },
  {
   "cell_type": "code",
   "execution_count": 73,
   "id": "dd46c804",
   "metadata": {},
   "outputs": [
    {
     "data": {
      "image/png": "[encoded data removed]",
      "text/plain": [
       "<Figure size 1000x600 with 1 Axes>"
      ]
     },
     "metadata": {},
     "output_type": "display_data"
    }
   ],
   "source": [
    "freq_in = df[df['Current State'] == 'In']['Year of Start'].value_counts().sort_index()\n",
    "freq_out = df[df['Current State'] == 'Out']['Year of Start'].value_counts().sort_index()\n",
    "\n",
    "plt.figure(figsize=(10, 6))\n",
    "plt.plot(freq_in.index, freq_in.values, marker='.', label='In')\n",
    "plt.plot(freq_out.index, freq_out.values, marker='.', label='Out', color='green')\n",
    "\n",
    "plt.xlabel('Año')\n",
    "plt.ylabel('Frecuencia')\n",
    "plt.title('Frecuencia Anual de Estados \"In\" y \"Out\" por Año')\n",
    "plt.xticks(freq.index)\n",
    "plt.xlim(1997, 2014)\n",
    "plt.grid(True)\n",
    "plt.show()"
   ]
  },
  {
   "cell_type": "markdown",
   "id": "85da0e3c",
   "metadata": {},
   "source": [
    "3) A partir de los resultados de 1) y 2), ¿cómo describirías la tendencia en general?"
   ]
  },
  {
   "cell_type": "markdown",
   "id": "2f71e788",
   "metadata": {},
   "source": [
    "La frecuencia de ambos estados (In y Out) experimentó un cambio significativo en los últimos años. Antes de 2009, la frecuencia se mantuvo relativamente constante, pero a partir de ese año, se observó un aumento notable en el caso de \"In\". Por otro lado, el estado \"Out\" alcanzó un pico alto en 2011, pero desde entonces ha mostrado una tendencia a la baja."
   ]
  }
 ],
 "metadata": {
  "kernelspec": {
   "display_name": "Python 3 (ipykernel)",
   "language": "python",
   "name": "python3"
  },
  "language_info": {
   "codemirror_mode": {
    "name": "ipython",
    "version": 3
   },
   "file_extension": ".py",
   "mimetype": "text/x-python",
   "name": "python",
   "nbconvert_exporter": "python",
   "pygments_lexer": "ipython3",
   "version": "3.11.5"
  }
 },
 "nbformat": 4,
 "nbformat_minor": 5
}
