{
 "cells": [
  {
   "cell_type": "code",
   "execution_count": 1,
   "id": "b62523f1-16c7-4352-8ede-b4dedb7c08d2",
   "metadata": {},
   "outputs": [
    {
     "name": "stdout",
     "output_type": "stream",
     "text": [
      "La característica más correlacionada con la variable objetivo es: worst concave points\n",
      "Su coeficiente de correlación es: 0.7936\n"
     ]
    }
   ],
   "source": [
    "import numpy as np\n",
    "import pandas as pd\n",
    "from sklearn.datasets import load_breast_cancer\n",
    "\n",
    "# Importar datos\n",
    "data = load_breast_cancer()\n",
    "\n",
    "# Crear DataFrame\n",
    "df = pd.DataFrame(data.data, columns=data.feature_names)\n",
    "df = df.assign(target=pd.Series(1 - data.target))\n",
    "\n",
    "# Calcular correlaciones con la variable objetivo\n",
    "correlations = df.corr()[\"target\"].drop(\"target\").abs()\n",
    "\n",
    "# Encontrar la característica con mayor correlación\n",
    "most_correlated_feature = correlations.idxmax()\n",
    "highest_correlation = correlations.max()\n",
    "\n",
    "print(f\"La característica más correlacionada con la variable objetivo es: {most_correlated_feature}\")\n",
    "print(f\"Su coeficiente de correlación es: {highest_correlation:.4f}\")"
   ]
  }
 ],
 "metadata": {
  "kernelspec": {
   "display_name": "Python 3 (ipykernel)",
   "language": "python",
   "name": "python3"
  },
  "language_info": {
   "codemirror_mode": {
    "name": "ipython",
    "version": 3
   },
   "file_extension": ".py",
   "mimetype": "text/x-python",
   "name": "python",
   "nbconvert_exporter": "python",
   "pygments_lexer": "ipython3",
   "version": "3.12.7"
  }
 },
 "nbformat": 4,
 "nbformat_minor": 5
}
