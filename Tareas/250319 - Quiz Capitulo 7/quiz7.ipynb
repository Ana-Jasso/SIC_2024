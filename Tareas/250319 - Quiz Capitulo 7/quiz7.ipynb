{
 "cells": [
  {
   "cell_type": "code",
   "execution_count": 2,
   "id": "99658508-22ca-43a7-a07f-9ea0e6e0a3cc",
   "metadata": {},
   "outputs": [
    {
     "name": "stderr",
     "output_type": "stream",
     "text": [
      "[nltk_data] Downloading package stopwords to\n",
      "[nltk_data]     C:\\Users\\anala\\AppData\\Roaming\\nltk_data...\n",
      "[nltk_data]   Package stopwords is already up-to-date!\n"
     ]
    },
    {
     "data": {
      "text/plain": [
       "True"
      ]
     },
     "execution_count": 2,
     "metadata": {},
     "output_type": "execute_result"
    }
   ],
   "source": [
    "import nltk\n",
    "nltk.download('stopwords')"
   ]
  },
  {
   "cell_type": "code",
   "execution_count": 4,
   "id": "28aa810c-d717-4a8d-8ff0-61175376e31a",
   "metadata": {},
   "outputs": [
    {
     "name": "stdout",
     "output_type": "stream",
     "text": [
      "Frase: ai is a rapidly advancing field involving the development of intelligent machines\n",
      "Más similar: ethical considerations play a significant role in ai development\n",
      "\n",
      "Frase: machine learning is a subset of ai that focuses on training machines to learn from data.\n",
      "Más similar: deep learning is a subfield of machine learning that uses neural networks with multiple layers\n",
      "\n",
      "Frase: deep learning is a subfield of machine learning that uses neural networks with multiple layers\n",
      "Más similar: machine learning is a subset of ai that focuses on training machines to learn from data.\n",
      "\n",
      "Frase: ai is applied in various sectors such as healthcare, transportation, and entertainment.\n",
      "Más similar: ai is applied in various sectors such as healthcare, transportation, and entertainment.\n",
      "\n",
      "Frase: ethical considerations play a significant role in ai development\n",
      "Más similar: ai is a rapidly advancing field involving the development of intelligent machines\n",
      "\n",
      "Frase: artificial intelligence can revolutionize many aspects of society\n",
      "Más similar: ai is a rapidly advancing field involving the development of intelligent machines\n",
      "\n",
      "Frase: ai systems, such as chatbots and virtual assistants, are becoming increasingly common\n",
      "Más similar: ai is a rapidly advancing field involving the development of intelligent machines\n",
      "\n",
      "Frase: natural language processing is a branch of ai that enables machines to understand human language\n",
      "Más similar: the goal of computer vision is for machines to understand visual information\n",
      "\n",
      "Frase: the goal of computer vision is for machines to understand visual information\n",
      "Más similar: natural language processing is a branch of ai that enables machines to understand human language\n",
      "\n"
     ]
    },
    {
     "name": "stderr",
     "output_type": "stream",
     "text": [
      "[nltk_data] Downloading package stopwords to\n",
      "[nltk_data]     C:\\Users\\anala\\AppData\\Roaming\\nltk_data...\n",
      "[nltk_data]   Package stopwords is already up-to-date!\n"
     ]
    }
   ],
   "source": [
    "import nltk\n",
    "import numpy as np\n",
    "import nltk\n",
    "import numpy as np\n",
    "from nltk.corpus import stopwords\n",
    "from sklearn.feature_extraction.text import TfidfVectorizer\n",
    "from sklearn.metrics.pairwise import cosine_similarity\n",
    "\n",
    "# Descargar las stopwords en inglés\n",
    "nltk.download('stopwords')\n",
    "\n",
    "# Lista de documentos (frases sobre inteligencia artificial)\n",
    "doc = [\n",
    "    \"AI is a rapidly advancing field involving the development of intelligent machines\",\n",
    "    \"Machine learning is a subset of AI that focuses on training machines to learn from data.\",\n",
    "    \"Deep learning is a subfield of machine learning that uses neural networks with multiple layers\",\n",
    "    \"AI is applied in various sectors such as healthcare, transportation, and entertainment.\",\n",
    "    \"Ethical considerations play a significant role in AI development\",\n",
    "    \"Artificial intelligence can revolutionize many aspects of society\",\n",
    "    \"AI systems, such as chatbots and virtual assistants, are becoming increasingly common\",\n",
    "    \"Natural language processing is a branch of AI that enables machines to understand human language\",\n",
    "    \"The goal of computer vision is for machines to understand visual information\",\n",
    "]\n",
    "\n",
    "# Preprocesamiento: convertir a minúsculas\n",
    "doc = [x.lower() for x in doc]\n",
    "\n",
    "# Definir parámetros para la vectorización TF-IDF\n",
    "max_features = 18  # Número máximo de características a considerar\n",
    "min_df = 1  # Un término debe aparecer al menos 1 vez en los documentos\n",
    "max_df = 3  # Un término no debe aparecer en más de 3 documentos\n",
    "stop_words = stopwords.words('english')  # Lista de palabras vacías en inglés\n",
    "\n",
    "# Crear el vectorizador TF-IDF y transformar los documentos en vectores numéricos\n",
    "vectorizer = TfidfVectorizer(max_features=max_features,\n",
    "                             min_df=min_df,\n",
    "                             max_df=max_df,\n",
    "                             stop_words=stop_words)\n",
    "X = vectorizer.fit_transform(doc).toarray()\n",
    "\n",
    "# Calcular la similitud de coseno entre todas las frases\n",
    "cosine_sim = cosine_similarity(X, X)\n",
    "\n",
    "# Encontrar la frase más similar para cada oración\n",
    "most_similar_idx = np.argmax(cosine_sim - np.eye(len(doc)), axis=1)\n",
    "\n",
    "# Imprimir los resultados\n",
    "for i, idx in enumerate(most_similar_idx):\n",
    "    print(f\"Frase: {doc[i]}\\nMás similar: {doc[idx]}\\n\")"
   ]
  },
  {
   "cell_type": "code",
   "execution_count": 5,
   "id": "11f7817f-74c6-4018-a2d7-af921b55957d",
   "metadata": {},
   "outputs": [
    {
     "name": "stdout",
     "output_type": "stream",
     "text": [
      "Frase: ai is a rapidly advancing field involving the development of intelligent machines\n",
      "Más similar: ethical considerations play a significant role in ai development\n",
      "\n",
      "Frase: machine learning is a subset of ai that focuses on training machines to learn from data.\n",
      "Más similar: deep learning is a subfield of machine learning that uses neural networks with multiple layers\n",
      "\n",
      "Frase: deep learning is a subfield of machine learning that uses neural networks with multiple layers\n",
      "Más similar: machine learning is a subset of ai that focuses on training machines to learn from data.\n",
      "\n",
      "Frase: ai is applied in various sectors such as healthcare, transportation, and entertainment.\n",
      "Más similar: ai is a rapidly advancing field involving the development of intelligent machines\n",
      "\n",
      "Frase: ethical considerations play a significant role in ai development\n",
      "Más similar: ai is a rapidly advancing field involving the development of intelligent machines\n",
      "\n",
      "Frase: artificial intelligence can revolutionize many aspects of society\n",
      "Más similar: ai is a rapidly advancing field involving the development of intelligent machines\n",
      "\n",
      "Frase: ai systems, such as chatbots and virtual assistants, are becoming increasingly common\n",
      "Más similar: ai is a rapidly advancing field involving the development of intelligent machines\n",
      "\n",
      "Frase: natural language processing is a branch of ai that enables machines to understand human language\n",
      "Más similar: the goal of computer vision is for machines to understand visual information\n",
      "\n",
      "Frase: the goal of computer vision is for machines to understand visual information\n",
      "Más similar: natural language processing is a branch of ai that enables machines to understand human language\n",
      "\n"
     ]
    },
    {
     "name": "stderr",
     "output_type": "stream",
     "text": [
      "[nltk_data] Downloading package stopwords to\n",
      "[nltk_data]     C:\\Users\\anala\\AppData\\Roaming\\nltk_data...\n",
      "[nltk_data]   Package stopwords is already up-to-date!\n"
     ]
    }
   ],
   "source": [
    "import nltk\n",
    "import numpy as np\n",
    "from nltk.corpus import stopwords\n",
    "from sklearn.feature_extraction.text import TfidfVectorizer\n",
    "from sklearn.metrics.pairwise import cosine_similarity\n",
    "\n",
    "# Descargar las stopwords en inglés\n",
    "nltk.download('stopwords')\n",
    "\n",
    "# Lista de documentos (frases sobre inteligencia artificial)\n",
    "doc = [\n",
    "    \"AI is a rapidly advancing field involving the development of intelligent machines\",\n",
    "    \"Machine learning is a subset of AI that focuses on training machines to learn from data.\",\n",
    "    \"Deep learning is a subfield of machine learning that uses neural networks with multiple layers\",\n",
    "    \"AI is applied in various sectors such as healthcare, transportation, and entertainment.\",\n",
    "    \"Ethical considerations play a significant role in AI development\",\n",
    "    \"Artificial intelligence can revolutionize many aspects of society\",\n",
    "    \"AI systems, such as chatbots and virtual assistants, are becoming increasingly common\",\n",
    "    \"Natural language processing is a branch of AI that enables machines to understand human language\",\n",
    "    \"The goal of computer vision is for machines to understand visual information\",\n",
    "]\n",
    "\n",
    "# Preprocesamiento: convertir a minúsculas\n",
    "doc = [x.lower() for x in doc]\n",
    "\n",
    "# Definir parámetros para la vectorización TF-IDF\n",
    "max_features = 18  # Número máximo de características a considerar\n",
    "min_df = 1  # Un término debe aparecer al menos 1 vez en los documentos\n",
    "max_df = 3  # Un término no debe aparecer en más de 3 documentos\n",
    "stop_words = stopwords.words('english')  # Lista de palabras vacías en inglés\n",
    "\n",
    "# Crear el vectorizador TF-IDF y transformar los documentos en vectores numéricos\n",
    "vectorizer = TfidfVectorizer(max_features=max_features,\n",
    "                             min_df=min_df,\n",
    "                             max_df=max_df,\n",
    "                             stop_words=stop_words)\n",
    "X = vectorizer.fit_transform(doc).toarray()\n",
    "\n",
    "# Calcular la similitud de coseno entre todas las frases\n",
    "cosine_sim = cosine_similarity(X, X)\n",
    "\n",
    "# Evitar que una frase sea comparada consigo misma\n",
    "np.fill_diagonal(cosine_sim, 0)\n",
    "\n",
    "# Encontrar la frase más similar para cada oración\n",
    "most_similar_idx = np.argmax(cosine_sim, axis=1)\n",
    "\n",
    "# Imprimir los resultados\n",
    "for i, idx in enumerate(most_similar_idx):\n",
    "    print(f\"Frase: {doc[i]}\\nMás similar: {doc[idx]}\\n\")"
   ]
  }
 ],
 "metadata": {
  "kernelspec": {
   "display_name": "Python 3 (ipykernel)",
   "language": "python",
   "name": "python3"
  },
  "language_info": {
   "codemirror_mode": {
    "name": "ipython",
    "version": 3
   },
   "file_extension": ".py",
   "mimetype": "text/x-python",
   "name": "python",
   "nbconvert_exporter": "python",
   "pygments_lexer": "ipython3",
   "version": "3.12.7"
  }
 },
 "nbformat": 4,
 "nbformat_minor": 5
}
